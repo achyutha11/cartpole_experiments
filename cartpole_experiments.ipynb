{
 "cells": [
  {
   "cell_type": "markdown",
   "id": "0e8a2290",
   "metadata": {},
   "source": [
    "# Cart Pole Experimentation"
   ]
  },
  {
   "cell_type": "markdown",
   "id": "923a4591",
   "metadata": {},
   "source": [
    "Cart Pole is an environment provided by OpenAI gym. This is a really basic Reinforcement Learning (RL) environment - I recently saw it described as the \"Hello World\" of RL. The environment considers a pole on a cart, and the cart can either move left or right in order to keep the pole upright. If the pole falls beyond a certain angle, or the cart moves outside certain bounds, the episode terminates. \n",
    "\n",
    "The state is defined by the observation - this has cart position, cart velocity, pole angle, and pole\n",
    "angular velocity in that order (these numbers are the output from env.reset()). env.step(action = 0 or 1) gives us observation, reward, done, info, in that order. The reward is +1 for every additional step, including the termination step. More information on the environment can be found here: https://www.gymlibrary.dev/environments/classic_control/cart_pole/"
   ]
  },
  {
   "cell_type": "markdown",
   "id": "4efa8cda",
   "metadata": {},
   "source": [
    "In this notebook, I want to build and train a RL agent to solve this environment successfully using a DDQN algorithm."
   ]
  },
  {
   "cell_type": "code",
   "execution_count": 1,
   "id": "2cf4f915",
   "metadata": {},
   "outputs": [],
   "source": [
    "%matplotlib inline\n",
    "from matplotlib import pyplot as plt\n",
    "from tensorflow.keras.layers import Dense\n",
    "from tensorflow.keras.optimizers import Adam\n",
    "from tensorflow.keras.models import Sequential\n",
    "import tensorflow as tf\n",
    "from tqdm import tqdm\n",
    "import pandas as pd\n",
    "import numpy as np\n",
    "import gymnasium as gym\n",
    "from IPython import display\n",
    "plt.rcParams['figure.dpi'] = 150"
   ]
  },
  {
   "cell_type": "markdown",
   "id": "72b48467",
   "metadata": {},
   "source": [
    "### Agent Class"
   ]
  },
  {
   "cell_type": "code",
   "execution_count": 9,
   "id": "82846799",
   "metadata": {},
   "outputs": [],
   "source": [
    "class DQNAgent():\n",
    "    \"\"\"\n",
    "    RL agent that utilizes a DQN algorithm to solve the Cart Pole environment.\n",
    "    \"\"\"\n",
    "    \n",
    "    def __init__(self, gamma=0.95, epsilon=0.9, epsilon_decay=0.99, epsilon_min=0.04, tau=0.99):\n",
    "        \"\"\"\n",
    "        Initialize agent.\n",
    "        \n",
    "        Arguments:\n",
    "            gamma (float): Future reward discounting factor\n",
    "            epsilon (float): Starting value representing percentage of the time that the agent chooses a random action. E.g 0.75 = 75%\n",
    "            epsilon_decay (float): Epsilon is multiplied by this factor after each episode.\n",
    "            epsilon_min (float): Minimum value for epsilon.\n",
    "            tau (float): Rate at which the target-q network is updated.\n",
    "            \n",
    "        Returns:\n",
    "            None\n",
    "        \"\"\"\n",
    "        self.gamma = gamma\n",
    "        self.epsilon = epsilon\n",
    "        self.epsilon_decay = epsilon_decay\n",
    "        self.epsilon_min = epsilon_min \n",
    "        self.tau = tau\n",
    "        self.q_function = self.make_q_function()\n",
    "        self.q_function.compile(loss='mse', optimizer=tf.keras.optimizers.legacy.Adam(learning_rate=5e-4)) \n",
    "        self.target_q = self.make_q_function()\n",
    "        self.target_q.compile(loss='mse', optimizer=tf.keras.optimizers.legacy.Adam(learning_rate=5e-4))\n",
    "        self.target_q.set_weights(self.q_function.weights)\n",
    "        self.max_memory = 10000\n",
    "    \n",
    "    \n",
    "    def find_action(self, state):\n",
    "        \"\"\"\n",
    "        Taking an action according to current policy of the agent. \n",
    "        \n",
    "        Arguments:\n",
    "            state (ndarray): cart position, cart velocity, pole angle, and pole angular velocity\n",
    "        \n",
    "        Returns:\n",
    "            action (int): 0 or 1, corresponding to whether to push the cart left or right.\n",
    "        \"\"\"\n",
    "        \n",
    "        # If the random number is less than epsilon, we choose the action randomly\n",
    "        if np.random.random() < self.epsilon:\n",
    "            action = np.random.randint(0, 2)\n",
    "            \n",
    "        # Otherwise, choose the action that is the agent's current best guess for max future reward\n",
    "        else:\n",
    "            # Find action with best q-value\n",
    "            # Find q-value estimates for each action using q-function\n",
    "            q_vals = self.q_function.predict(state[np.newaxis, :], verbose=False)\n",
    "            # Find best value by taking index of the largest argument\n",
    "            action = np.argmax(q_vals)\n",
    "    \n",
    "        return action\n",
    "    \n",
    "    \n",
    "    def take_step(self, env):\n",
    "        \"\"\"\n",
    "        Take a step in the Cart Pole environment with the agent.\n",
    "        \n",
    "        Arguments:\n",
    "            env: Cart Pole environment object\n",
    "        \n",
    "        Returns:\n",
    "            old_state (ndarray): initial cart position, cart velocity, pole angle, and pole angular velocity\n",
    "            action (int): 0 or 1, corresponding to whether the cart was pushed left or right\n",
    "            reward (int): +1 if the episode has not yet terminated, 0 otherwise\n",
    "            new_state (ndarray): new cart position, cart velocity, pole angle, and pole angular velocity\n",
    "            done (bool): Whether or not episode has terminated\n",
    "        \"\"\"\n",
    "        \n",
    "        # Find action\n",
    "        action = self.find_action(self.state)\n",
    "        \n",
    "        # Take step\n",
    "        new_state, reward, done, info = env.step(action)[:4]\n",
    "        old_state = self.state\n",
    "        self.state = new_state\n",
    "        \n",
    "        return old_state, action, reward, new_state, done\n",
    "    \n",
    "    \n",
    "    def make_q_function(self):\n",
    "        \"\"\"\n",
    "        Create a q-function to estimate optimal total reward values for a given state-action pair.\n",
    "        \n",
    "        Arguments:\n",
    "            None\n",
    "        \n",
    "        Returns:\n",
    "            model: Untrained Keras sequential model. \n",
    "        \"\"\"\n",
    "        \n",
    "        # Keras Sequential model\n",
    "        # 2 outputs corresponding to left and right actions\n",
    "        model = Sequential(\n",
    "            [\n",
    "                Dense(128, activation='relu', input_shape=(4,)),\n",
    "                Dense(64, activation='relu'),\n",
    "                Dense(64, activation='relu'),\n",
    "                Dense(2, activation='linear')\n",
    "            ]\n",
    "        )\n",
    "        \n",
    "        return model\n",
    "        \n",
    "    \n",
    "    def train(self):\n",
    "        \"\"\"\n",
    "        Use memory of experience to train agent using gradient descent.\n",
    "        \n",
    "        Arguments:\n",
    "            None\n",
    "            \n",
    "        Returns:\n",
    "            None\n",
    "        \"\"\"\n",
    "            \n",
    "        # Define target = current reward + gamma * target q of next state\n",
    "        \n",
    "        # Target q network predictions of future reward\n",
    "        future_reward = np.max(self.target_q.predict(self.memory[:, -4:], verbose=False), axis=1)\n",
    "        # Accounting for steps where episode terminated (no future reward)\n",
    "        future_reward = np.where(self.memory[:, 6], 0, future_reward)\n",
    "        \n",
    "        target_vals = self.memory[:, 5] + self.gamma * future_reward\n",
    "        \n",
    "        # Creating targets\n",
    "        q_vals = self.q_function.predict(self.memory[:, :4], verbose=False)\n",
    "        \n",
    "        current_actions = self.memory[:, 4]\n",
    "        # Replacing q_function predictions with target_q targets\n",
    "        col1 = ((q_vals[:, 0] * current_actions) + ((1 - current_actions) * target_vals)).reshape(q_vals.shape[0], 1)\n",
    "        col2 = ((q_vals[:, 1] * (1 - current_actions)) + (current_actions * target_vals)).reshape(q_vals.shape[0], 1)\n",
    "        final_target = np.concatenate((col1, col2), axis=1)\n",
    "        \n",
    "        # Train q-function with mse against target-q\n",
    "        self.q_function.fit(self.memory[:, :4], final_target, shuffle=True, batch_size=64, verbose=False)\n",
    "        \n",
    "        # Using Polyak averaging to soft update target-q to be tau * target q weights + (1 - tau) * q weights\n",
    "        new_weights = [self.tau * i + (1 - self.tau) * j for i, j in zip(self.target_q.weights, self.q_function.weights)]\n",
    "        self.target_q.set_weights(new_weights) \n",
    "        \n",
    "        \n",
    "    def go(self, env, num_rounds=100):\n",
    "        \"\"\"\n",
    "        Run the agent till termination num_rounds times.\n",
    "        \n",
    "        Arguments:\n",
    "            env: Cart Pole environment object\n",
    "            num_rounds (int): Number of times we want the agent to run until termination.\n",
    "            \n",
    "        Returns:\n",
    "            None\n",
    "        \"\"\"\n",
    "        \n",
    "        # Initializing memory and episode length record\n",
    "        self.memory = np.zeros((1, 11))\n",
    "        length_lst = []\n",
    "        \n",
    "        # Each round is a complete runthrough of the environment until termination\n",
    "        for i in tqdm(range(num_rounds)):\n",
    "            \n",
    "            # Tracking whether or not current iteration has terminated\n",
    "            complete = False\n",
    "            \n",
    "            # Resetting to initial state\n",
    "            self.state = env.reset()[0]\n",
    "            \n",
    "            # Variable to keep track of number of steps taken in each round\n",
    "            length = 0\n",
    "            \n",
    "            while not complete:\n",
    "                \n",
    "                # Continue taking steps until termination\n",
    "                old_state, action, reward, new_state, done = self.take_step(env)\n",
    "                \n",
    "                # Add data to agent memory\n",
    "                if self.memory.any():\n",
    "                    curr_data = np.append(np.append(old_state, (action, reward, done)), new_state).reshape(1, 11)\n",
    "                    self.memory = np.concatenate((self.memory, curr_data), axis=0)\n",
    "                else: \n",
    "                    self.memory = (np.append(np.append(old_state, (action, reward, done)), new_state)).reshape(1, 11)\n",
    "                \n",
    "                # Need > 64 for batch size\n",
    "                if len(self.memory) > 64:\n",
    "                    self.train()\n",
    "                \n",
    "                if done:\n",
    "                    complete = True\n",
    "                    \n",
    "                length += 1\n",
    "                \n",
    "                if length > 550:\n",
    "                    break\n",
    "\n",
    "            # Sample memory if exceeding memory limit\n",
    "            # Always keep initial 1000 steps' data\n",
    "            if len(self.memory) > self.max_memory:\n",
    "                idx = np.random.randint(1000, len(self.memory), size=self.max_memory - 1000) \n",
    "                self.memory = self.memory[np.append(np.arange(1000), idx), :]\n",
    "                \n",
    "             # Decrease epsilon\n",
    "            self.epsilon *= self.epsilon_decay\n",
    "            self.epsilon = max(self.epsilon, self.epsilon_min)\n",
    "            \n",
    "            length_lst.append(length)\n",
    "            \n",
    "            if np.mean(length_lst[-10:]) >= 475:\n",
    "                break\n",
    "            \n",
    "            if i % 10 == 0:\n",
    "                print(\"Episode {}: \\nlast 10 reward avg: {} \\nepsilon: {} \\nMemory size: {}\".format(i, np.mean(length_lst[-10:]), self.epsilon, self.memory.shape[0]))\n",
    "                               \n",
    "        return length_lst\n"
   ]
  },
  {
   "cell_type": "markdown",
   "id": "92b768e8",
   "metadata": {},
   "source": [
    "### Function for performance evaluation"
   ]
  },
  {
   "cell_type": "code",
   "execution_count": 10,
   "id": "40c9d923",
   "metadata": {},
   "outputs": [],
   "source": [
    "def rolling_average(lengths, window):\n",
    "    \"\"\"\n",
    "    Find the rolling average of the episode length.\n",
    "    \n",
    "    Arguments:\n",
    "        lengths (lst): List of episode lengths\n",
    "        window (int): Length of rolling average window of consideration\n",
    "        \n",
    "    Returns:\n",
    "        avgs (lst):\n",
    "    \"\"\"\n",
    "    avgs = []\n",
    "    for i in range(len(lengths)):\n",
    "        if i < window:\n",
    "            avgs.append(0)\n",
    "        else:\n",
    "            avgs.append(np.mean(lengths[i - window: i]))\n",
    "    return avgs"
   ]
  },
  {
   "cell_type": "markdown",
   "id": "99125976",
   "metadata": {},
   "source": [
    "### Building and evaluating agent"
   ]
  },
  {
   "cell_type": "code",
   "execution_count": 11,
   "id": "fb100541",
   "metadata": {},
   "outputs": [],
   "source": [
    "agent = DQNAgent()"
   ]
  },
  {
   "cell_type": "code",
   "execution_count": 12,
   "id": "d41628ee",
   "metadata": {},
   "outputs": [],
   "source": [
    "env = gym.make('CartPole-v1', render_mode='rgb_array')"
   ]
  },
  {
   "cell_type": "code",
   "execution_count": 13,
   "id": "dfdbcef8",
   "metadata": {
    "scrolled": true
   },
   "outputs": [
    {
     "name": "stderr",
     "output_type": "stream",
     "text": [
      "  0%|▎                                                                                            | 1/300 [00:00<00:29,  9.98it/s]"
     ]
    },
    {
     "name": "stdout",
     "output_type": "stream",
     "text": [
      "Episode 0: \n",
      "last 10 reward avg: 11.0 \n",
      "epsilon: 0.891 \n",
      "Memory size: 11\n"
     ]
    },
    {
     "name": "stderr",
     "output_type": "stream",
     "text": [
      "  4%|███▎                                                                                        | 11/300 [00:07<04:20,  1.11it/s]"
     ]
    },
    {
     "name": "stdout",
     "output_type": "stream",
     "text": [
      "Episode 10: \n",
      "last 10 reward avg: 15.6 \n",
      "epsilon: 0.8058044288328449 \n",
      "Memory size: 167\n"
     ]
    },
    {
     "name": "stderr",
     "output_type": "stream",
     "text": [
      "  7%|██████▍                                                                                     | 21/300 [00:22<08:05,  1.74s/it]"
     ]
    },
    {
     "name": "stdout",
     "output_type": "stream",
     "text": [
      "Episode 20: \n",
      "last 10 reward avg: 20.1 \n",
      "epsilon: 0.7287550813991327 \n",
      "Memory size: 368\n"
     ]
    },
    {
     "name": "stderr",
     "output_type": "stream",
     "text": [
      " 10%|█████████▌                                                                                  | 31/300 [00:51<16:21,  3.65s/it]"
     ]
    },
    {
     "name": "stdout",
     "output_type": "stream",
     "text": [
      "Episode 30: \n",
      "last 10 reward avg: 30.5 \n",
      "epsilon: 0.6590730326889578 \n",
      "Memory size: 673\n"
     ]
    },
    {
     "name": "stderr",
     "output_type": "stream",
     "text": [
      " 14%|████████████▌                                                                               | 41/300 [01:42<23:00,  5.33s/it]"
     ]
    },
    {
     "name": "stdout",
     "output_type": "stream",
     "text": [
      "Episode 40: \n",
      "last 10 reward avg: 49.8 \n",
      "epsilon: 0.5960538368855853 \n",
      "Memory size: 1171\n"
     ]
    },
    {
     "name": "stderr",
     "output_type": "stream",
     "text": [
      " 17%|███████████████▋                                                                            | 51/300 [02:10<12:33,  3.02s/it]"
     ]
    },
    {
     "name": "stdout",
     "output_type": "stream",
     "text": [
      "Episode 50: \n",
      "last 10 reward avg: 24.7 \n",
      "epsilon: 0.5390604058195451 \n",
      "Memory size: 1418\n"
     ]
    },
    {
     "name": "stderr",
     "output_type": "stream",
     "text": [
      " 20%|██████████████████▋                                                                         | 61/300 [02:44<12:33,  3.15s/it]"
     ]
    },
    {
     "name": "stdout",
     "output_type": "stream",
     "text": [
      "Episode 60: \n",
      "last 10 reward avg: 26.7 \n",
      "epsilon: 0.48751656837016827 \n",
      "Memory size: 1685\n"
     ]
    },
    {
     "name": "stderr",
     "output_type": "stream",
     "text": [
      " 24%|█████████████████████▊                                                                      | 71/300 [03:39<19:42,  5.17s/it]"
     ]
    },
    {
     "name": "stdout",
     "output_type": "stream",
     "text": [
      "Episode 70: \n",
      "last 10 reward avg: 40.8 \n",
      "epsilon: 0.4409012457037845 \n",
      "Memory size: 2093\n"
     ]
    },
    {
     "name": "stderr",
     "output_type": "stream",
     "text": [
      " 27%|████████████████████████▊                                                                   | 81/300 [04:51<23:02,  6.31s/it]"
     ]
    },
    {
     "name": "stdout",
     "output_type": "stream",
     "text": [
      "Episode 80: \n",
      "last 10 reward avg: 48.4 \n",
      "epsilon: 0.39874318346355536 \n",
      "Memory size: 2577\n"
     ]
    },
    {
     "name": "stderr",
     "output_type": "stream",
     "text": [
      " 30%|███████████████████████████▉                                                                | 91/300 [06:44<47:51, 13.74s/it]"
     ]
    },
    {
     "name": "stdout",
     "output_type": "stream",
     "text": [
      "Episode 90: \n",
      "last 10 reward avg: 67.4 \n",
      "epsilon: 0.3606161876563865 \n",
      "Memory size: 3251\n"
     ]
    },
    {
     "name": "stderr",
     "output_type": "stream",
     "text": [
      " 34%|██████████████████████████████▋                                                            | 101/300 [07:54<37:33, 11.33s/it]"
     ]
    },
    {
     "name": "stdout",
     "output_type": "stream",
     "text": [
      "Episode 100: \n",
      "last 10 reward avg: 37.8 \n",
      "epsilon: 0.3261348160744472 \n",
      "Memory size: 3629\n"
     ]
    },
    {
     "name": "stderr",
     "output_type": "stream",
     "text": [
      " 37%|█████████████████████████████████▋                                                         | 111/300 [09:01<28:32,  9.06s/it]"
     ]
    },
    {
     "name": "stdout",
     "output_type": "stream",
     "text": [
      "Episode 110: \n",
      "last 10 reward avg: 33.3 \n",
      "epsilon: 0.2949504816940234 \n",
      "Memory size: 3962\n"
     ]
    },
    {
     "name": "stderr",
     "output_type": "stream",
     "text": [
      " 40%|████████████████████████████████████▋                                                      | 121/300 [10:58<30:29, 10.22s/it]"
     ]
    },
    {
     "name": "stdout",
     "output_type": "stream",
     "text": [
      "Episode 120: \n",
      "last 10 reward avg: 55.3 \n",
      "epsilon: 0.26674792865928726 \n",
      "Memory size: 4515\n"
     ]
    },
    {
     "name": "stderr",
     "output_type": "stream",
     "text": [
      " 44%|███████████████████████████████████████▋                                                   | 131/300 [13:39<45:15, 16.07s/it]"
     ]
    },
    {
     "name": "stdout",
     "output_type": "stream",
     "text": [
      "Episode 130: \n",
      "last 10 reward avg: 70.2 \n",
      "epsilon: 0.24124204522518672 \n",
      "Memory size: 5217\n"
     ]
    },
    {
     "name": "stderr",
     "output_type": "stream",
     "text": [
      " 47%|██████████████████████████████████████████▊                                                | 141/300 [17:33<48:46, 18.41s/it]"
     ]
    },
    {
     "name": "stdout",
     "output_type": "stream",
     "text": [
      "Episode 140: \n",
      "last 10 reward avg: 94.2 \n",
      "epsilon: 0.2181749814401222 \n",
      "Memory size: 6159\n"
     ]
    },
    {
     "name": "stderr",
     "output_type": "stream",
     "text": [
      " 50%|█████████████████████████████████████████████▊                                             | 151/300 [20:42<50:51, 20.48s/it]"
     ]
    },
    {
     "name": "stdout",
     "output_type": "stream",
     "text": [
      "Episode 150: \n",
      "last 10 reward avg: 67.7 \n",
      "epsilon: 0.1973135424298251 \n",
      "Memory size: 6836\n"
     ]
    },
    {
     "name": "stderr",
     "output_type": "stream",
     "text": [
      " 54%|███████████████████████████████████████████████▊                                         | 161/300 [23:56<1:01:02, 26.35s/it]"
     ]
    },
    {
     "name": "stdout",
     "output_type": "stream",
     "text": [
      "Episode 160: \n",
      "last 10 reward avg: 59.8 \n",
      "epsilon: 0.178446830930023 \n",
      "Memory size: 7434\n"
     ]
    },
    {
     "name": "stderr",
     "output_type": "stream",
     "text": [
      " 57%|██████████████████████████████████████████████████▋                                      | 171/300 [29:09<1:39:41, 46.37s/it]"
     ]
    },
    {
     "name": "stdout",
     "output_type": "stream",
     "text": [
      "Episode 170: \n",
      "last 10 reward avg: 100.6 \n",
      "epsilon: 0.1613841152352395 \n",
      "Memory size: 8440\n"
     ]
    },
    {
     "name": "stderr",
     "output_type": "stream",
     "text": [
      " 60%|██████████████████████████████████████████████████████▉                                    | 181/300 [34:00<56:21, 28.41s/it]"
     ]
    },
    {
     "name": "stdout",
     "output_type": "stream",
     "text": [
      "Episode 180: \n",
      "last 10 reward avg: 86.7 \n",
      "epsilon: 0.14595290100990588 \n",
      "Memory size: 9307\n"
     ]
    },
    {
     "name": "stderr",
     "output_type": "stream",
     "text": [
      " 64%|█████████████████████████████████████████████████████████▉                                 | 191/300 [37:43<40:57, 22.54s/it]"
     ]
    },
    {
     "name": "stdout",
     "output_type": "stream",
     "text": [
      "Episode 190: \n",
      "last 10 reward avg: 62.5 \n",
      "epsilon: 0.13199718746889333 \n",
      "Memory size: 9932\n"
     ]
    },
    {
     "name": "stderr",
     "output_type": "stream",
     "text": [
      " 67%|████████████████████████████████████████████████████████████▉                              | 201/300 [43:27<42:49, 25.96s/it]"
     ]
    },
    {
     "name": "stdout",
     "output_type": "stream",
     "text": [
      "Episode 200: \n",
      "last 10 reward avg: 92.8 \n",
      "epsilon: 0.1193758902984439 \n",
      "Memory size: 10000\n"
     ]
    },
    {
     "name": "stderr",
     "output_type": "stream",
     "text": [
      " 70%|██████████████████████████████████████████████████████████████▌                          | 211/300 [48:43<1:02:04, 41.84s/it]"
     ]
    },
    {
     "name": "stdout",
     "output_type": "stream",
     "text": [
      "Episode 210: \n",
      "last 10 reward avg: 84.7 \n",
      "epsilon: 0.1079614153741301 \n",
      "Memory size: 10000\n"
     ]
    },
    {
     "name": "stderr",
     "output_type": "stream",
     "text": [
      " 74%|███████████████████████████████████████████████████████████████████                        | 221/300 [55:09<49:16, 37.43s/it]"
     ]
    },
    {
     "name": "stdout",
     "output_type": "stream",
     "text": [
      "Episode 220: \n",
      "last 10 reward avg: 103.4 \n",
      "epsilon: 0.09763836885694321 \n",
      "Memory size: 10000\n"
     ]
    },
    {
     "name": "stderr",
     "output_type": "stream",
     "text": [
      " 77%|████████████████████████████████████████████████████████████████████▌                    | 231/300 [1:01:43<28:26, 24.74s/it]"
     ]
    },
    {
     "name": "stdout",
     "output_type": "stream",
     "text": [
      "Episode 230: \n",
      "last 10 reward avg: 105.9 \n",
      "epsilon: 0.08830239062731732 \n",
      "Memory size: 10000\n"
     ]
    },
    {
     "name": "stderr",
     "output_type": "stream",
     "text": [
      " 80%|███████████████████████████████████████████████████████████████████████▍                 | 241/300 [1:05:24<25:42, 26.14s/it]"
     ]
    },
    {
     "name": "stdout",
     "output_type": "stream",
     "text": [
      "Episode 240: \n",
      "last 10 reward avg: 59.5 \n",
      "epsilon: 0.07985909926377122 \n",
      "Memory size: 10000\n"
     ]
    },
    {
     "name": "stderr",
     "output_type": "stream",
     "text": [
      " 84%|██████████████████████████████████████████████████████████████████████████▍              | 251/300 [1:09:47<26:46, 32.78s/it]"
     ]
    },
    {
     "name": "stdout",
     "output_type": "stream",
     "text": [
      "Episode 250: \n",
      "last 10 reward avg: 68.3 \n",
      "epsilon: 0.07222313790050347 \n",
      "Memory size: 10000\n"
     ]
    },
    {
     "name": "stderr",
     "output_type": "stream",
     "text": [
      " 87%|█████████████████████████████████████████████████████████████████████████████▍           | 261/300 [1:16:50<18:32, 28.52s/it]"
     ]
    },
    {
     "name": "stdout",
     "output_type": "stream",
     "text": [
      "Episode 260: \n",
      "last 10 reward avg: 109.0 \n",
      "epsilon: 0.06531731131810435 \n",
      "Memory size: 10000\n"
     ]
    },
    {
     "name": "stderr",
     "output_type": "stream",
     "text": [
      " 90%|███████████████████████████████████████████████████████████████████████████████▍        | 271/300 [1:27:45<52:16, 108.17s/it]"
     ]
    },
    {
     "name": "stdout",
     "output_type": "stream",
     "text": [
      "Episode 270: \n",
      "last 10 reward avg: 169.2 \n",
      "epsilon: 0.05907180554386329 \n",
      "Memory size: 10000\n"
     ]
    },
    {
     "name": "stderr",
     "output_type": "stream",
     "text": [
      " 94%|███████████████████████████████████████████████████████████████████████████████████▎     | 281/300 [1:39:44<20:37, 65.14s/it]"
     ]
    },
    {
     "name": "stdout",
     "output_type": "stream",
     "text": [
      "Episode 280: \n",
      "last 10 reward avg: 190.1 \n",
      "epsilon: 0.05342348207227568 \n",
      "Memory size: 10000\n"
     ]
    },
    {
     "name": "stderr",
     "output_type": "stream",
     "text": [
      " 97%|██████████████████████████████████████████████████████████████████████████████████████▎  | 291/300 [1:51:05<08:54, 59.43s/it]"
     ]
    },
    {
     "name": "stdout",
     "output_type": "stream",
     "text": [
      "Episode 290: \n",
      "last 10 reward avg: 177.2 \n",
      "epsilon: 0.04831523957072034 \n",
      "Memory size: 10000\n"
     ]
    },
    {
     "name": "stderr",
     "output_type": "stream",
     "text": [
      "100%|█████████████████████████████████████████████████████████████████████████████████████████| 300/300 [1:56:28<00:00, 23.29s/it]\n"
     ]
    }
   ],
   "source": [
    "lengths = agent.go(env, num_rounds=300)"
   ]
  },
  {
   "cell_type": "code",
   "execution_count": 18,
   "id": "e6108645-6ce0-4f26-bc33-601b333df006",
   "metadata": {
    "jupyter": {
     "source_hidden": true
    }
   },
   "outputs": [],
   "source": [
    "agent.q_function.save_weights('./best_q_func_weights')"
   ]
  },
  {
   "cell_type": "code",
   "execution_count": 19,
   "id": "d997c7fd-955e-4d66-9fb6-b8dff7c62c94",
   "metadata": {},
   "outputs": [],
   "source": [
    "agent.target_q.save_weights('./best_target_q_weights')"
   ]
  },
  {
   "cell_type": "code",
   "execution_count": 14,
   "id": "9b7e7bc8",
   "metadata": {
    "scrolled": true
   },
   "outputs": [
    {
     "data": {
      "text/plain": [
       "Text(0, 0.5, 'Episode length')"
      ]
     },
     "execution_count": 14,
     "metadata": {},
     "output_type": "execute_result"
    },
    {
     "data": {
      "image/png": "[encoded data removed]",
      "text/plain": [
       "<Figure size 960x720 with 1 Axes>"
      ]
     },
     "metadata": {},
     "output_type": "display_data"
    }
   ],
   "source": [
    "iters = np.arange(300)\n",
    "plt.plot(iters, rolling_average(lengths, 10))\n",
    "plt.xlabel(\"Iteration number\")\n",
    "plt.ylabel(\"Episode length\")"
   ]
  },
  {
   "cell_type": "code",
   "execution_count": null,
   "id": "32b4d3d5",
   "metadata": {},
   "outputs": [],
   "source": [
    "done = False\n",
    "\n",
    "env = gym.make('CartPole-v1', render_mode='rgb_array')\n",
    "agent.state = env.reset()[0]\n",
    "agent_lengths = []\n",
    "\n",
    "for i in tqdm(range(100)):\n",
    "    \n",
    "    env.reset()\n",
    "    \n",
    "    ep_length = 0\n",
    "    \n",
    "    done = False\n",
    "    \n",
    "    while not done:\n",
    "        _, _, _, _, done = agent.take_step(env)\n",
    "        ep_length += 1\n",
    "    \n",
    "    agent_lengths.append(ep_length)"
   ]
  },
  {
   "cell_type": "code",
   "execution_count": null,
   "id": "935b398b",
   "metadata": {},
   "outputs": [],
   "source": [
    "done = False\n",
    "\n",
    "env = gym.make('CartPole-v1', render_mode='rgb_array')\n",
    "random_lengths = []\n",
    "\n",
    "for i in tqdm(range(100)):\n",
    "    \n",
    "    env.reset()\n",
    "    \n",
    "    done = False\n",
    "    \n",
    "    ep_length = 0\n",
    "    \n",
    "    while not done:\n",
    "        action = np.random.randint(0, 2)\n",
    "        _, _, done, _, _ = env.step(action)\n",
    "        ep_length += 1\n",
    "    \n",
    "    random_lengths.append(ep_length)"
   ]
  },
  {
   "cell_type": "code",
   "execution_count": null,
   "id": "70d8a8ac",
   "metadata": {},
   "outputs": [],
   "source": [
    "np.mean(agent_lengths)"
   ]
  },
  {
   "cell_type": "code",
   "execution_count": null,
   "id": "e6fee47e",
   "metadata": {},
   "outputs": [],
   "source": [
    "np.mean(random_lengths)"
   ]
  },
  {
   "cell_type": "code",
   "execution_count": null,
   "id": "44e95c21",
   "metadata": {},
   "outputs": [],
   "source": [
    "plt.plot(np.arange(100), rolling_average(agent_lengths, 10), label='Agent')\n",
    "plt.plot(np.arange(100), rolling_average(random_lengths, 10 ), label='Random')\n",
    "plt.legend()"
   ]
  },
  {
   "cell_type": "code",
   "execution_count": 16,
   "id": "fdb8369a",
   "metadata": {},
   "outputs": [
    {
     "data": {
      "image/png": "[encoded data removed]",
      "text/plain": [
       "<Figure size 960x720 with 1 Axes>"
      ]
     },
     "metadata": {},
     "output_type": "display_data"
    }
   ],
   "source": [
    "env = gym.make('CartPole-v1', render_mode='rgb_array')\n",
    "agent.state = env.reset()[0]\n",
    "\n",
    "for i in range(50):\n",
    "    plt.imshow(env.render())\n",
    "    display.display(plt.gcf())    \n",
    "    display.clear_output(wait=True)\n",
    "#     env.step(env.action_space.sample()) # take a random action\n",
    "    env.step(agent.find_action(agent.state))\n",
    "    agent.state = np.array(env.state)\n",
    "    \n",
    "env.close()"
   ]
  },
  {
   "cell_type": "code",
   "execution_count": null,
   "id": "44589930",
   "metadata": {},
   "outputs": [],
   "source": []
  }
 ],
 "metadata": {
  "kernelspec": {
   "display_name": "Python 3 (ipykernel)",
   "language": "python",
   "name": "python3"
  },
  "language_info": {
   "codemirror_mode": {
    "name": "ipython",
    "version": 3
   },
   "file_extension": ".py",
   "mimetype": "text/x-python",
   "name": "python",
   "nbconvert_exporter": "python",
   "pygments_lexer": "ipython3",
   "version": "3.10.12"
  }
 },
 "nbformat": 4,
 "nbformat_minor": 5
}
