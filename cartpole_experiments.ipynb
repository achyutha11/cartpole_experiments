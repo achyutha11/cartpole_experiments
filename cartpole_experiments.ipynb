{
 "cells": [
  {
   "cell_type": "markdown",
   "id": "0e8a2290",
   "metadata": {},
   "source": [
    "# Cart Pole Experimentation"
   ]
  },
  {
   "cell_type": "markdown",
   "id": "b051d2ae",
   "metadata": {},
   "source": [
    "Cart Pole is an environment provided by OpenAI gym. This is a really basic Reinforcement Learning (RL) environment - I recently saw it described as the \"Hello World\" of RL. The environment considers a pole on a cart, and the cart can either move left or right in order to keep the pole upright. If the pole falls beyond a certain angle, or the cart moves outside certain bounds, the episode terminates. \n",
    "\n",
    "The state is defined by the observation - this has cart position, cart velocity, pole angle, and pole\n",
    "angular velocity in that order (these numbers are the output from env.reset()). env.step(action = 0 or 1) gives us observation, reward, done, info, in that order. The reward is +1 for every additional step, including the termination step. More information on the environment can be found here: https://www.gymlibrary.dev/environments/classic_control/cart_pole/"
   ]
  },
  {
   "cell_type": "markdown",
   "id": "1f0cf8e4",
   "metadata": {},
   "source": [
    "In this notebook, I want to build and train a RL agent to solve this environment successfully using a DDQN algorithm. I plan on experimenting with the following variables:\n",
    "- Neural net architectures\n",
    "- Learning rates \n",
    "- Epsilon values"
   ]
  },
  {
   "cell_type": "code",
   "execution_count": 32,
   "id": "2cf4f915",
   "metadata": {},
   "outputs": [],
   "source": [
    "%matplotlib inline\n",
    "from matplotlib import pyplot as plt\n",
    "from tensorflow.keras.layers import Dense\n",
    "from tensorflow.keras.optimizers import Adam\n",
    "from tensorflow.keras.models import Sequential\n",
    "import tensorflow as tf\n",
    "from tqdm import tqdm\n",
    "import pandas as pd\n",
    "import numpy as np\n",
    "import gymnasium as gym\n",
    "from IPython import display\n",
    "plt.rcParams['figure.dpi'] = 150"
   ]
  },
  {
   "cell_type": "code",
   "execution_count": 65,
   "id": "82846799",
   "metadata": {},
   "outputs": [],
   "source": [
    "class DQNAgent():\n",
    "    \"\"\"\n",
    "    RL agent that utilizes a DQN algorithm to solve the Cart Pole environment.\n",
    "    \"\"\"\n",
    "    \n",
    "    def __init__(self, gamma=0.95, epsilon=0.9, epsilon_decay=0.99, epsilon_min=0.01, tau=0.99):\n",
    "        \"\"\"\n",
    "        Initialize agent.\n",
    "        \n",
    "        Arguments:\n",
    "            gamma (float): Future reward discounting factor\n",
    "            epsilon (float): Starting value representing percentage of the time that the agent chooses a random action. E.g 0.75 = 75%\n",
    "            epsilon_decay (float): Epsilon is multiplied by this factor after each episode.\n",
    "            epsilon_min (float): Minimum value for epsilon.\n",
    "            tau (float): Rate at which the target-q network is updated.\n",
    "            \n",
    "        Returns:\n",
    "            None\n",
    "        \"\"\"\n",
    "        self.gamma = gamma\n",
    "        self.epsilon = epsilon\n",
    "        self.epsilon_decay = epsilon_decay\n",
    "        self.epsilon_min = epsilon_min \n",
    "        self.tau = tau\n",
    "        self.q_function = self.make_q_function()\n",
    "        self.q_function.compile(loss='mse', optimizer=tf.keras.optimizers.legacy.Adam(learning_rate=1e-3)) \n",
    "        self.target_q = self.make_q_function()\n",
    "        self.target_q.compile(loss='mse', optimizer='adam')\n",
    "        self.target_q.set_weights(self.q_function.weights)\n",
    "        self.max_memory = 10000\n",
    "    \n",
    "    \n",
    "    def find_action(self, state):\n",
    "        \"\"\"\n",
    "        Taking an action according to current policy of the agent. \n",
    "        \n",
    "        Arguments:\n",
    "            state (ndarray): cart position, cart velocity, pole angle, and pole angular velocity\n",
    "        \n",
    "        Returns:\n",
    "            action (int): 0 or 1, corresponding to whether to push the cart left or right.\n",
    "        \"\"\"\n",
    "        \n",
    "        # If the random number is less than epsilon, we choose the action randomly\n",
    "        if np.random.random() < self.epsilon:\n",
    "            action = np.random.randint(0, 2)\n",
    "            \n",
    "        # Otherwise, choose the action that is the agent's current best guess for max future reward\n",
    "        else:\n",
    "            # Find action with best q-value\n",
    "            # Find q-value estimates for each action using q-function\n",
    "            q_vals = self.q_function.predict(state[np.newaxis, :], verbose=False)\n",
    "            # Find best value by taking index of the largest argument\n",
    "            action = np.argmax(q_vals)\n",
    "    \n",
    "        return action\n",
    "    \n",
    "    \n",
    "    def take_step(self, env):\n",
    "        \"\"\"\n",
    "        Take a step in the Cart Pole environment with the agent.\n",
    "        \n",
    "        Arguments:\n",
    "            env: Cart Pole environment object\n",
    "        \n",
    "        Returns:\n",
    "            old_state (ndarray): initial cart position, cart velocity, pole angle, and pole angular velocity\n",
    "            action (int): 0 or 1, corresponding to whether the cart was pushed left or right\n",
    "            reward (int): +1 if the episode has not yet terminated, 0 otherwise\n",
    "            new_state (ndarray): new cart position, cart velocity, pole angle, and pole angular velocity\n",
    "            done (bool): Whether or not episode has terminated\n",
    "        \"\"\"\n",
    "        \n",
    "        # Find action\n",
    "        action = self.find_action(self.state)\n",
    "        \n",
    "        # Take step\n",
    "        new_state, reward, done, info = env.step(action)[:4]\n",
    "        old_state = self.state\n",
    "        self.state = new_state\n",
    "        \n",
    "        return old_state, action, reward, new_state, done\n",
    "    \n",
    "    \n",
    "    def make_q_function(self):\n",
    "        \"\"\"\n",
    "        Create a q-function to estimate optimal total reward values for a given state-action pair.\n",
    "        \n",
    "        Arguments:\n",
    "            None\n",
    "        \n",
    "        Returns:\n",
    "            model: Untrained Keras sequential model. \n",
    "        \"\"\"\n",
    "        \n",
    "        model = Sequential(\n",
    "            [\n",
    "                Dense(128, activation='relu', input_shape=(4,)),\n",
    "                Dense(64, activation='relu'),\n",
    "                Dense(64, activation='relu'),\n",
    "                Dense(2, activation='linear')\n",
    "            ]\n",
    "        )\n",
    "        \n",
    "        return model\n",
    "        \n",
    "    \n",
    "    def train(self):\n",
    "        \"\"\"\n",
    "        Use memory of experience to train agent using gradient descent.\n",
    "        \n",
    "        Arguments:\n",
    "            None\n",
    "            \n",
    "        Returns:\n",
    "            None\n",
    "        \"\"\"\n",
    "            \n",
    "        # Define target = current reward + gamma * target q of next state\n",
    "        \n",
    "        # Target q network predictions of future reward\n",
    "        future_reward = np.max(self.target_q.predict(self.memory[:, -4:], verbose=False), axis=1)\n",
    "        # Accounting for steps where episode terminated (no future reward)\n",
    "        future_reward = np.where(self.memory[:, 6], 0, future_reward)\n",
    "        \n",
    "        target_vals = self.memory[:, 5] + self.gamma * future_reward\n",
    "        \n",
    "        # Creating targets\n",
    "        q_vals = self.q_function.predict(self.memory[:, :4], verbose=False)\n",
    "        \n",
    "        current_actions = self.memory[:, 4]\n",
    "        # Replacing predictions with targets\n",
    "        col1 = ((q_vals[:, 0] * current_actions) + ((1 - current_actions) * target_vals)).reshape(q_vals.shape[0], 1)\n",
    "        col2 = ((q_vals[:, 1] * (1 - current_actions)) + (current_actions * target_vals)).reshape(q_vals.shape[0], 1)\n",
    "        final_target = np.concatenate((col1, col2), axis=1)\n",
    "        \n",
    "        # Train q-function with mse against target-q\n",
    "        self.q_function.fit(self.memory[:, :4], final_target, shuffle=True, batch_size=64, verbose=False)\n",
    "        \n",
    "        # Using Polyak averaging to soft update target-q to be tau * target q weights + (1 - tau) * q weights\n",
    "        new_weights = [self.tau * i + (1 - self.tau) * j for i, j in zip(self.target_q.weights, self.q_function.weights)]\n",
    "        self.target_q.set_weights(new_weights) \n",
    "        \n",
    "        \n",
    "    def go(self, env, num_rounds=100):\n",
    "        \"\"\"\n",
    "        Run the agent till termination num_rounds times.\n",
    "        \n",
    "        Arguments:\n",
    "            env: Cart Pole environment object\n",
    "            num_rounds (int): Number of times we want the agent to run until termination.\n",
    "            \n",
    "        Returns:\n",
    "            None\n",
    "        \"\"\"\n",
    "        \n",
    "        # Initializing memory and episode length record\n",
    "        self.memory = np.zeros((1, 11))\n",
    "        length_lst = []\n",
    "        \n",
    "        # Each round is a complete runthrough of the environment until termination\n",
    "        for i in tqdm(range(num_rounds)):\n",
    "            \n",
    "            # Tracking whether or not current iteration has terminated\n",
    "            complete = False\n",
    "            \n",
    "            # Resetting to initial state\n",
    "            self.state = env.reset()[0]\n",
    "            \n",
    "            # Variable to keep track of number of steps taken in each round\n",
    "            length = 0\n",
    "            \n",
    "            while not complete:\n",
    "                \n",
    "                # Continue taking steps until termination\n",
    "                old_state, action, reward, new_state, done = self.take_step(env)\n",
    "                \n",
    "                # Add data to agent memory\n",
    "                if self.memory.any():\n",
    "                    curr_data = np.append(np.append(old_state, (action, reward, done)), new_state).reshape(1, 11)\n",
    "                    self.memory = np.concatenate((self.memory, curr_data), axis=0)\n",
    "                else: \n",
    "                    self.memory = (np.append(np.append(old_state, (action, reward, done)), new_state)).reshape(1, 11)\n",
    "                \n",
    "                # Sample memory if exceeding memory limit\n",
    "                # Always keep initial 1000 steps' data\n",
    "                if len(self.memory) > self.max_memory:\n",
    "                    idx = np.random.randint(1000, self.max_memory, size=self.max_memory - 1000) \n",
    "                    self.memory = self.memory[np.append(np.arange(1000), idx), :]\n",
    "                \n",
    "                # Need > 64 for batch size\n",
    "                if len(self.memory) > 64:\n",
    "                    self.train()\n",
    "                \n",
    "                if done:\n",
    "                    complete = True\n",
    "                    \n",
    "                length += 1\n",
    "                \n",
    "                if length > 550:\n",
    "                    break\n",
    "\n",
    "                \n",
    "             # Decrease epsilon\n",
    "            self.epsilon *= self.epsilon_decay\n",
    "            self.epsilon = max(self.epsilon, self.epsilon_min)\n",
    "            \n",
    "            length_lst.append(length)\n",
    "            \n",
    "            if np.mean(length_lst[-10:]) >= 475:\n",
    "                break\n",
    "            \n",
    "            if i % 10 == 0:\n",
    "                print(\"Episode {} last 10 reward avg: {}, epsilon: {}\".format(i, np.mean(length_lst[-10:]), self.epsilon))\n",
    "                               \n",
    "        return length_lst\n"
   ]
  },
  {
   "cell_type": "code",
   "execution_count": 66,
   "id": "cc9eccc8",
   "metadata": {},
   "outputs": [],
   "source": [
    "def rolling_average(lengths, window):\n",
    "    \"\"\"\n",
    "    Find the rolling average of the episode length.\n",
    "    \n",
    "    Arguments:\n",
    "        lengths (lst): List of episode lengths\n",
    "        window (int): Length of rolling average window of consideration\n",
    "        \n",
    "    Returns:\n",
    "        avgs (lst):\n",
    "    \"\"\"\n",
    "    avgs = []\n",
    "    for i in range(len(lengths)):\n",
    "        if i < window:\n",
    "            avgs.append(0)\n",
    "        else:\n",
    "            avgs.append(np.mean(lengths[i - window: i]))\n",
    "    return avgs"
   ]
  },
  {
   "cell_type": "code",
   "execution_count": 67,
   "id": "fb100541",
   "metadata": {},
   "outputs": [],
   "source": [
    "agent = DQNAgent()"
   ]
  },
  {
   "cell_type": "code",
   "execution_count": 68,
   "id": "d41628ee",
   "metadata": {},
   "outputs": [],
   "source": [
    "env = gym.make('CartPole-v1', render_mode='rgb_array')"
   ]
  },
  {
   "cell_type": "code",
   "execution_count": null,
   "id": "dfdbcef8",
   "metadata": {
    "scrolled": true
   },
   "outputs": [
    {
     "name": "stderr",
     "output_type": "stream",
     "text": [
      "\r",
      "  0%|                                                                                                    | 0/1000 [00:00<?, ?it/s]"
     ]
    },
    {
     "name": "stdout",
     "output_type": "stream",
     "text": [
      "Episode 0 last 10 reward avg: 18.0, epsilon: 0.891\n"
     ]
    },
    {
     "name": "stderr",
     "output_type": "stream",
     "text": [
      "  1%|█                                                                                          | 11/1000 [00:12<22:07,  1.34s/it]"
     ]
    },
    {
     "name": "stdout",
     "output_type": "stream",
     "text": [
      "Episode 10 last 10 reward avg: 21.9, epsilon: 0.8058044288328449\n"
     ]
    },
    {
     "name": "stderr",
     "output_type": "stream",
     "text": [
      "  2%|█▉                                                                                         | 21/1000 [00:29<33:40,  2.06s/it]"
     ]
    },
    {
     "name": "stdout",
     "output_type": "stream",
     "text": [
      "Episode 20 last 10 reward avg: 20.1, epsilon: 0.7287550813991327\n"
     ]
    },
    {
     "name": "stderr",
     "output_type": "stream",
     "text": [
      "  3%|██▊                                                                                      | 31/1000 [01:00<1:03:04,  3.91s/it]"
     ]
    },
    {
     "name": "stdout",
     "output_type": "stream",
     "text": [
      "Episode 30 last 10 reward avg: 34.5, epsilon: 0.6590730326889578\n"
     ]
    },
    {
     "name": "stderr",
     "output_type": "stream",
     "text": [
      "  4%|███▋                                                                                       | 41/1000 [01:24<53:25,  3.34s/it]"
     ]
    },
    {
     "name": "stdout",
     "output_type": "stream",
     "text": [
      "Episode 40 last 10 reward avg: 24.9, epsilon: 0.5960538368855853\n"
     ]
    },
    {
     "name": "stderr",
     "output_type": "stream",
     "text": [
      "  5%|████▋                                                                                      | 51/1000 [01:54<47:56,  3.03s/it]"
     ]
    },
    {
     "name": "stdout",
     "output_type": "stream",
     "text": [
      "Episode 50 last 10 reward avg: 28.2, epsilon: 0.5390604058195451\n"
     ]
    },
    {
     "name": "stderr",
     "output_type": "stream",
     "text": [
      "  6%|█████▍                                                                                   | 61/1000 [02:40<1:29:54,  5.74s/it]"
     ]
    },
    {
     "name": "stdout",
     "output_type": "stream",
     "text": [
      "Episode 60 last 10 reward avg: 37.8, epsilon: 0.48751656837016827\n"
     ]
    },
    {
     "name": "stderr",
     "output_type": "stream",
     "text": [
      "  7%|██████▎                                                                                  | 71/1000 [03:16<1:13:47,  4.77s/it]"
     ]
    },
    {
     "name": "stdout",
     "output_type": "stream",
     "text": [
      "Episode 70 last 10 reward avg: 27.9, epsilon: 0.4409012457037845\n"
     ]
    },
    {
     "name": "stderr",
     "output_type": "stream",
     "text": [
      "  8%|███████▏                                                                                 | 81/1000 [04:00<1:01:08,  3.99s/it]"
     ]
    },
    {
     "name": "stdout",
     "output_type": "stream",
     "text": [
      "Episode 80 last 10 reward avg: 30.5, epsilon: 0.39874318346355536\n"
     ]
    },
    {
     "name": "stderr",
     "output_type": "stream",
     "text": [
      "  9%|████████                                                                                 | 91/1000 [05:15<2:17:05,  9.05s/it]"
     ]
    },
    {
     "name": "stdout",
     "output_type": "stream",
     "text": [
      "Episode 90 last 10 reward avg: 48.7, epsilon: 0.3606161876563865\n"
     ]
    },
    {
     "name": "stderr",
     "output_type": "stream",
     "text": [
      " 10%|████████▉                                                                               | 101/1000 [06:27<1:23:08,  5.55s/it]"
     ]
    },
    {
     "name": "stdout",
     "output_type": "stream",
     "text": [
      "Episode 100 last 10 reward avg: 42.2, epsilon: 0.3261348160744472\n"
     ]
    },
    {
     "name": "stderr",
     "output_type": "stream",
     "text": [
      " 11%|█████████▊                                                                              | 111/1000 [08:30<2:13:26,  9.01s/it]"
     ]
    },
    {
     "name": "stdout",
     "output_type": "stream",
     "text": [
      "Episode 110 last 10 reward avg: 65.9, epsilon: 0.2949504816940234\n"
     ]
    },
    {
     "name": "stderr",
     "output_type": "stream",
     "text": [
      " 12%|██████████▋                                                                             | 121/1000 [11:27<4:52:36, 19.97s/it]"
     ]
    },
    {
     "name": "stdout",
     "output_type": "stream",
     "text": [
      "Episode 120 last 10 reward avg: 83.7, epsilon: 0.26674792865928726\n"
     ]
    },
    {
     "name": "stderr",
     "output_type": "stream",
     "text": [
      " 13%|███████████▌                                                                            | 131/1000 [14:11<5:23:32, 22.34s/it]"
     ]
    },
    {
     "name": "stdout",
     "output_type": "stream",
     "text": [
      "Episode 130 last 10 reward avg: 69.3, epsilon: 0.24124204522518672\n"
     ]
    },
    {
     "name": "stderr",
     "output_type": "stream",
     "text": [
      " 14%|███████████▉                                                                            | 136/1000 [16:18<5:25:34, 22.61s/it]"
     ]
    }
   ],
   "source": [
    "lengths = agent.go(env, num_rounds=1000)"
   ]
  },
  {
   "cell_type": "code",
   "execution_count": null,
   "id": "9b7e7bc8",
   "metadata": {},
   "outputs": [],
   "source": [
    "iters = np.arange(1000)\n",
    "plt.plot(iters, rolling_average(lengths, 10))\n",
    "plt.xlabel(\"Iteration number\")\n",
    "plt.ylabel(\"Episode length\")"
   ]
  },
  {
   "cell_type": "code",
   "execution_count": null,
   "id": "4742d238",
   "metadata": {},
   "outputs": [],
   "source": [
    "done = False\n",
    "\n",
    "env = gym.make('CartPole-v1', render_mode='rgb_array')\n",
    "agent.state = env.reset()[0]\n",
    "agent_lengths = []\n",
    "\n",
    "for i in tqdm(range(100)):\n",
    "    \n",
    "    env.reset()\n",
    "    \n",
    "    ep_length = 0\n",
    "    \n",
    "    done = False\n",
    "    \n",
    "    while not done:\n",
    "        _, _, _, _, done = agent.take_step(env)\n",
    "        ep_length += 1\n",
    "    \n",
    "    agent_lengths.append(ep_length)"
   ]
  },
  {
   "cell_type": "code",
   "execution_count": null,
   "id": "63c6bb00",
   "metadata": {},
   "outputs": [],
   "source": [
    "done = False\n",
    "\n",
    "env = gym.make('CartPole-v1', render_mode='rgb_array')\n",
    "random_lengths = []\n",
    "\n",
    "for i in tqdm(range(100)):\n",
    "    \n",
    "    env.reset()\n",
    "    \n",
    "    done = False\n",
    "    \n",
    "    ep_length = 0\n",
    "    \n",
    "    while not done:\n",
    "        action = np.random.randint(0, 2)\n",
    "        _, _, done, _, _ = env.step(action)\n",
    "        ep_length += 1\n",
    "    \n",
    "    random_lengths.append(ep_length)"
   ]
  },
  {
   "cell_type": "code",
   "execution_count": null,
   "id": "e2f328bc",
   "metadata": {},
   "outputs": [],
   "source": [
    "np.mean(agent_lengths)"
   ]
  },
  {
   "cell_type": "code",
   "execution_count": null,
   "id": "401daf84",
   "metadata": {},
   "outputs": [],
   "source": [
    "np.mean(random_lengths)"
   ]
  },
  {
   "cell_type": "code",
   "execution_count": null,
   "id": "5617004c",
   "metadata": {},
   "outputs": [],
   "source": [
    "plt.plot(np.arange(100), rolling_average(agent_lengths, 10), label='Agent')\n",
    "plt.plot(np.arange(100), rolling_average(random_lengths, 10 ), label='Random')\n",
    "plt.legend()"
   ]
  },
  {
   "cell_type": "code",
   "execution_count": 50,
   "id": "fdb8369a",
   "metadata": {},
   "outputs": [
    {
     "data": {
      "image/png": "[encoded data removed]",
      "text/plain": [
       "<Figure size 960x720 with 1 Axes>"
      ]
     },
     "metadata": {},
     "output_type": "display_data"
    }
   ],
   "source": [
    "env = gym.make('CartPole-v1', render_mode='rgb_array')\n",
    "agent.state = env.reset()[0]\n",
    "\n",
    "for i in range(50):\n",
    "    plt.imshow(env.render())\n",
    "    display.display(plt.gcf())    \n",
    "    display.clear_output(wait=True)\n",
    "#     env.step(env.action_space.sample()) # take a random action\n",
    "    env.step(agent.find_action(agent.state))\n",
    "    agent.state = np.array(env.state)\n",
    "    \n",
    "env.close()"
   ]
  },
  {
   "cell_type": "code",
   "execution_count": null,
   "id": "43ab8f99",
   "metadata": {},
   "outputs": [],
   "source": []
  }
 ],
 "metadata": {
  "kernelspec": {
   "display_name": "Python 3 (ipykernel)",
   "language": "python",
   "name": "python3"
  },
  "language_info": {
   "codemirror_mode": {
    "name": "ipython",
    "version": 3
   },
   "file_extension": ".py",
   "mimetype": "text/x-python",
   "name": "python",
   "nbconvert_exporter": "python",
   "pygments_lexer": "ipython3",
   "version": "3.10.12"
  }
 },
 "nbformat": 4,
 "nbformat_minor": 5
}
