{
 "cells": [
  {
   "cell_type": "markdown",
   "id": "0e8a2290",
   "metadata": {},
   "source": [
    "# CartPole Experiment"
   ]
  },
  {
   "cell_type": "code",
   "execution_count": 60,
   "id": "2cf4f915",
   "metadata": {},
   "outputs": [],
   "source": [
    "%matplotlib inline\n",
    "from matplotlib import pyplot as plt\n",
    "from tensorflow.keras.layers import Dense\n",
    "from tensorflow.keras.optimizers import Adam\n",
    "from tensorflow.keras.models import Sequential\n",
    "import tensorflow as tf\n",
    "from tqdm import tqdm\n",
    "import pandas as pd\n",
    "import numpy as np\n",
    "import gymnasium as gym\n",
    "from IPython import display\n",
    "plt.rcParams['figure.dpi'] = 150"
   ]
  },
  {
   "cell_type": "code",
   "execution_count": 3,
   "id": "98ecc916",
   "metadata": {},
   "outputs": [],
   "source": [
    "# What do I want to do here?\n",
    "\n",
    "# Cartpole is an environment provided by OpenAI gym.\n",
    "# This is one of the basic RL envs - has been described as the \"Hello World\" of RL \n",
    "# The state is defined by the observation - this has cart position, cart velocity, pole angle, and pole\n",
    "# angular velocity in that order (numbers output from env.reset())\n",
    "# env.step(action = 0 or 1) gives us observation, reward, done, info, in that order\n",
    "# reward = +1 for every additional step, including termination step\n",
    "# More info can be found here: https://www.gymlibrary.dev/environments/classic_control/cart_pole/\n",
    "\n",
    "# I want use a DQN algorithm to train an agent to complete this environment successfully\n",
    "# I plan on experimenting with different:\n",
    "# a) neural net architectures\n",
    "# b) learning rates \n",
    "# c) explore / exploit values"
   ]
  },
  {
   "cell_type": "code",
   "execution_count": 86,
   "id": "82846799",
   "metadata": {},
   "outputs": [],
   "source": [
    "class DQNAgent():\n",
    "    \"\"\"\n",
    "    RL agent that utilizes a DQN algorithm to solve the Cartpole environment.\n",
    "    \"\"\"\n",
    "    \n",
    "    def __init__(self, gamma=0.95, epsilon=0.9, epsilon_decay=0.99, epsilon_min=0.01, tau=0.99):\n",
    "        \"\"\"\n",
    "        Initialize agent.\n",
    "        \n",
    "        Arguments:\n",
    "            gamma (float): Future reward discounting factor\n",
    "            epsilon (float): Starting value representing percentage of the time that the agent chooses a random action. E.g 0.75 = 75%\n",
    "            epsilon_decay (float): Epsilon is multiplied by this factor after each training step.\n",
    "            epsilon_min (float): Minimum value for epsilon.\n",
    "            tau (float): Rate at which the target-q network is updated.\n",
    "            \n",
    "        Returns:\n",
    "            None\n",
    "        \"\"\"\n",
    "        self.gamma = gamma\n",
    "        self.epsilon = epsilon\n",
    "        self.epsilon_decay = epsilon_decay\n",
    "        self.epsilon_min = epsilon_min\n",
    "        self.tau = tau\n",
    "        self.q_function = self.make_q_function()\n",
    "        self.q_function.compile(loss='mse', optimizer='adam')\n",
    "        self.target_q = self.make_q_function()\n",
    "        self.target_q.compile(loss='mse', optimizer='adam')\n",
    "        self.max_memory = 2048\n",
    "        self.env = gym.make('CartPole-v1', render_mode='rgb_array')\n",
    "        self.state = self.env.reset()[0]\n",
    "    \n",
    "    \n",
    "    def find_action(self, state):\n",
    "        \"\"\"\n",
    "        Taking an action according to current policy of the agent. \n",
    "        \n",
    "        Arguments:\n",
    "            state (ndarray): cart position, cart velocity, pole angle, and pole angular velocity\n",
    "        \n",
    "        Returns:\n",
    "            action (int): 0 or 1, corresponding to whether to push the cart left or right.\n",
    "        \"\"\"\n",
    "        \n",
    "        # If random float is less than epsilon, we choose the action randomly\n",
    "        if np.random.random() < self.epsilon:\n",
    "            action = np.random.randint(0, 2)\n",
    "            \n",
    "        # Otherwise, choose the action that is the agent's current best guess for max future reward\n",
    "        else:\n",
    "            # Find action with best q-value\n",
    "            # Find q-value estimates for each action using q-function\n",
    "            q_vals = self.q_function.predict(state)\n",
    "            # Find best value by taking index of the largest argument\n",
    "            action = np.argmax(q_vals)\n",
    "    \n",
    "        return action\n",
    "    \n",
    "    \n",
    "    def step(self, env):\n",
    "        \"\"\"\n",
    "        Take a step in the Cartpole environment with the agent.\n",
    "        \n",
    "        Arguments:\n",
    "            env: Cartpole environment object\n",
    "        \n",
    "        Returns:\n",
    "            state (ndarray): cart position, cart velocity, pole angle, and pole angular velocity\n",
    "            reward (int): +1 if the episode has not yet terminated, 0 otherwise\n",
    "            done (bool): Whether or not episode has terminated\n",
    "            action (int): 1 or 0, corresponding to whether the cart was pushed left or right\n",
    "            info (dict): Empty dictionary\n",
    "        \"\"\"\n",
    "        \n",
    "        action = self.find_action(self.state)\n",
    "        state, reward, done, info = self.env.step(action)\n",
    "        self.state = state\n",
    "        return state, reward, done, action, info\n",
    "    \n",
    "    \n",
    "    def make_q_function(self):\n",
    "        \"\"\"\n",
    "        Create a q-function to estimate future reward values for a given state-action pair.\n",
    "        \n",
    "        Arguments:\n",
    "            None\n",
    "        \n",
    "        Returns:\n",
    "            model: Untrained Keras sequential model. \n",
    "        \"\"\"\n",
    "        \n",
    "        model = Sequential(\n",
    "            [\n",
    "                Dense(128, activation='relu'),\n",
    "                Dense(64, activation='relu'),\n",
    "                Dense(2, activation='linear')\n",
    "            ]\n",
    "        )\n",
    "        \n",
    "        return model\n",
    "        \n",
    "    \n",
    "    def train(self):\n",
    "        \"\"\"\n",
    "        Use memory of experience to train agent using gradient descent.\n",
    "        \n",
    "        Arguments:\n",
    "            None\n",
    "            \n",
    "        Returns:\n",
    "            None\n",
    "        \"\"\"\n",
    "            \n",
    "        # Define target q = reward + gamma * target q of next state\n",
    "        future_reward = self.target_q.predict(self.memory[-4:])\n",
    "        future_reward = np.where(self.memory[:, 6], 0, future_reward)\n",
    "        \n",
    "        target_vals = self.memory[:, 4] + self.gamma * future_reward                                            \n",
    "        \n",
    "        # Train q-function with mse against target-q\n",
    "        self.q_function.fit(self.memory[:, :4], target_vals, shuffle=True, batch_size=32, verbose=False)\n",
    "        \n",
    "        # Update target-q to be tau * target q weights + (1 - tau) * q weights\n",
    "        new_weights = [self.tau * i + (1 - self.tau) * j for i, j in zip(self.target_q.weights, self.q_function.weights)]\n",
    "        self.target_q.set_weights(new_weights) \n",
    "        \n",
    "        # Update epsilon\n",
    "        epsilon *= self.epsilon_decay\n",
    "        epsilon = max(epsilon, self.epsilon_min)\n",
    "        \n",
    "        \n",
    "    def go(self, num_rounds, train_freq):\n",
    "        \"\"\"\n",
    "        Run the agent till termination num_rounds times.\n",
    "        \n",
    "        Arguments:\n",
    "            num_rounds (int): Number of times we want the agent to run until termination.\n",
    "            train_freq (int): Train the agent after every train_freq rounds.\n",
    "            \n",
    "        Returns:\n",
    "            None\n",
    "        \"\"\"\n",
    "        \n",
    "        self.memory = np.zeros((1, 11))\n",
    "        length_lst = []\n",
    "        \n",
    "        # Each round is a complete runthrough of the environment until termination\n",
    "        for i in range(num_rounds):\n",
    "            \n",
    "            # Tracking whether or not current iteration has terminated\n",
    "            complete = False\n",
    "            \n",
    "            # Resetting to initial state\n",
    "            self.state = self.env.reset()[0]\n",
    "            \n",
    "            # Variable to keep data from this round\n",
    "            data_track = np.zeros((1, 11))\n",
    "            \n",
    "            # Variable to keep track of number of steps taken in each round\n",
    "            length = 0\n",
    "            \n",
    "            while not complete:\n",
    "                \n",
    "                state, reward, done, action, info = self.step(self.env)\n",
    "                \n",
    "                # Add data to current iteration memory\n",
    "                if data_track.any():\n",
    "                    curr_data = np.append(state, (reward, action, done, 0, 0, 0, 0))\n",
    "                    data_track = np.concatenate((data_track, curr_data))\n",
    "                else: \n",
    "                    data_track = np.append(state, (reward, action, done, 0, 0, 0, 0))\n",
    "                \n",
    "                # Add training\n",
    "                if i % train_freq == 0:\n",
    "                    self.train()\n",
    "                \n",
    "                if done:\n",
    "                    complete = True\n",
    "                    \n",
    "                length += 1\n",
    "            \n",
    "            \n",
    "            data_track[:, 6:] = np.roll(data_track[:, :4], -1, axis=0)\n",
    "            \n",
    "            if self.memory.any():\n",
    "                self.memory = np.concatenate((self.memory, data_track))\n",
    "            else:\n",
    "                self.memory = data_track\n",
    "                \n",
    "            if len(self.memory) > self.max_memory:\n",
    "                idx = np.random.randint(0, self.max_memory + 1, size=self.max_memory) \n",
    "                self.memory = self.memory[idx, :]\n",
    "            \n",
    "            length_lst.append(length)\n",
    "                               \n",
    "        return length_lst\n"
   ]
  },
  {
   "cell_type": "code",
   "execution_count": 97,
   "id": "fb100541",
   "metadata": {},
   "outputs": [],
   "source": [
    "agent = DQNAgent()"
   ]
  },
  {
   "cell_type": "code",
   "execution_count": 98,
   "id": "c3586f20",
   "metadata": {},
   "outputs": [
    {
     "ename": "ValueError",
     "evalue": "too many values to unpack (expected 4)",
     "output_type": "error",
     "traceback": [
      "\u001b[0;31m---------------------------------------------------------------------------\u001b[0m",
      "\u001b[0;31mValueError\u001b[0m                                Traceback (most recent call last)",
      "Cell \u001b[0;32mIn[98], line 1\u001b[0m\n\u001b[0;32m----> 1\u001b[0m \u001b[43magent\u001b[49m\u001b[38;5;241;43m.\u001b[39;49m\u001b[43mstep\u001b[49m\u001b[43m(\u001b[49m\u001b[43magent\u001b[49m\u001b[38;5;241;43m.\u001b[39;49m\u001b[43menv\u001b[49m\u001b[43m)\u001b[49m\n",
      "Cell \u001b[0;32mIn[86], line 76\u001b[0m, in \u001b[0;36mDQNAgent.step\u001b[0;34m(self, env)\u001b[0m\n\u001b[1;32m     61\u001b[0m \u001b[38;5;250m\u001b[39m\u001b[38;5;124;03m\"\"\"\u001b[39;00m\n\u001b[1;32m     62\u001b[0m \u001b[38;5;124;03mTake a step in the Cartpole environment with the agent.\u001b[39;00m\n\u001b[1;32m     63\u001b[0m \u001b[38;5;124;03m\u001b[39;00m\n\u001b[0;32m   (...)\u001b[0m\n\u001b[1;32m     72\u001b[0m \u001b[38;5;124;03m    info (dict): Empty dictionary\u001b[39;00m\n\u001b[1;32m     73\u001b[0m \u001b[38;5;124;03m\"\"\"\u001b[39;00m\n\u001b[1;32m     75\u001b[0m action \u001b[38;5;241m=\u001b[39m \u001b[38;5;28mself\u001b[39m\u001b[38;5;241m.\u001b[39mfind_action(\u001b[38;5;28mself\u001b[39m\u001b[38;5;241m.\u001b[39mstate)\n\u001b[0;32m---> 76\u001b[0m state, reward, done, info \u001b[38;5;241m=\u001b[39m \u001b[38;5;28mself\u001b[39m\u001b[38;5;241m.\u001b[39menv\u001b[38;5;241m.\u001b[39mstep(action)\n\u001b[1;32m     77\u001b[0m \u001b[38;5;28mself\u001b[39m\u001b[38;5;241m.\u001b[39mstate \u001b[38;5;241m=\u001b[39m state\n\u001b[1;32m     78\u001b[0m \u001b[38;5;28;01mreturn\u001b[39;00m state, reward, done, action, info\n",
      "\u001b[0;31mValueError\u001b[0m: too many values to unpack (expected 4)"
     ]
    }
   ],
   "source": [
    "agent.step(agent.env)"
   ]
  },
  {
   "cell_type": "code",
   "execution_count": 47,
   "id": "8f66af86",
   "metadata": {},
   "outputs": [],
   "source": [
    "a = np.array([[1, 2, 3, 4, 5]])\n",
    "b = np.array([[2, 3]])"
   ]
  },
  {
   "cell_type": "code",
   "execution_count": 48,
   "id": "3c5bf65d",
   "metadata": {},
   "outputs": [
    {
     "ename": "ValueError",
     "evalue": "all the input array dimensions except for the concatenation axis must match exactly, but along dimension 1, the array at index 0 has size 5 and the array at index 1 has size 2",
     "output_type": "error",
     "traceback": [
      "\u001b[0;31m---------------------------------------------------------------------------\u001b[0m",
      "\u001b[0;31mValueError\u001b[0m                                Traceback (most recent call last)",
      "Cell \u001b[0;32mIn[48], line 1\u001b[0m\n\u001b[0;32m----> 1\u001b[0m \u001b[43mnp\u001b[49m\u001b[38;5;241;43m.\u001b[39;49m\u001b[43mconcatenate\u001b[49m\u001b[43m(\u001b[49m\u001b[43m(\u001b[49m\u001b[43ma\u001b[49m\u001b[43m,\u001b[49m\u001b[43m \u001b[49m\u001b[43mb\u001b[49m\u001b[43m)\u001b[49m\u001b[43m)\u001b[49m\n",
      "\u001b[0;31mValueError\u001b[0m: all the input array dimensions except for the concatenation axis must match exactly, but along dimension 1, the array at index 0 has size 5 and the array at index 1 has size 2"
     ]
    }
   ],
   "source": [
    "np.concatenate((a, b))"
   ]
  },
  {
   "cell_type": "code",
   "execution_count": 54,
   "id": "526b3f82",
   "metadata": {},
   "outputs": [
    {
     "data": {
      "text/plain": [
       "array([2, 3, 4, 5])"
      ]
     },
     "execution_count": 54,
     "metadata": {},
     "output_type": "execute_result"
    }
   ],
   "source": [
    "a[0][1:]"
   ]
  },
  {
   "cell_type": "code",
   "execution_count": 20,
   "id": "9e8de5c7",
   "metadata": {},
   "outputs": [],
   "source": [
    "if np.zeros((1, 10)).any():\n",
    "    print('yes')"
   ]
  },
  {
   "cell_type": "code",
   "execution_count": 134,
   "id": "e7dbf7db",
   "metadata": {},
   "outputs": [],
   "source": [
    "test = DQNAgent(0.9, 1, 0.01, 0.1)"
   ]
  },
  {
   "cell_type": "code",
   "execution_count": 137,
   "id": "d6ef7211",
   "metadata": {},
   "outputs": [
    {
     "data": {
      "text/plain": [
       "1"
      ]
     },
     "execution_count": 137,
     "metadata": {},
     "output_type": "execute_result"
    }
   ],
   "source": [
    "test.step()"
   ]
  },
  {
   "cell_type": "code",
   "execution_count": 11,
   "id": "e26dd0a5",
   "metadata": {},
   "outputs": [
    {
     "data": {
      "text/plain": [
       "-0.04534512"
      ]
     },
     "execution_count": 11,
     "metadata": {},
     "output_type": "execute_result"
    }
   ],
   "source": [
    "env = gym.make('CartPole-v1', render_mode='rgb_array')\n",
    "env.reset()[0][3]"
   ]
  },
  {
   "cell_type": "code",
   "execution_count": 34,
   "id": "bb162460",
   "metadata": {},
   "outputs": [],
   "source": [
    "arr = env.step(1)[0]"
   ]
  },
  {
   "cell_type": "code",
   "execution_count": 46,
   "id": "d937323f",
   "metadata": {},
   "outputs": [
    {
     "data": {
      "text/plain": [
       "array([-0.0047548 ,  1.0181458 , -0.06795954, -1.53650522,  1.        ,\n",
       "        2.        ])"
      ]
     },
     "execution_count": 46,
     "metadata": {},
     "output_type": "execute_result"
    }
   ],
   "source": [
    "np.append(arr, (1, 2))"
   ]
  },
  {
   "cell_type": "code",
   "execution_count": 42,
   "id": "c0fd5c3f",
   "metadata": {},
   "outputs": [
    {
     "data": {
      "text/plain": [
       "array([-0.0047548 ,  1.0181458 , -0.06795954, -1.5365052 ], dtype=float32)"
      ]
     },
     "execution_count": 42,
     "metadata": {},
     "output_type": "execute_result"
    }
   ],
   "source": [
    "arr"
   ]
  },
  {
   "cell_type": "code",
   "execution_count": 59,
   "id": "fdb8369a",
   "metadata": {},
   "outputs": [
    {
     "data": {
      "image/png": "[encoded data removed]",
      "text/plain": [
       "<Figure size 960x720 with 1 Axes>"
      ]
     },
     "metadata": {},
     "output_type": "display_data"
    }
   ],
   "source": [
    "for i in range(25):\n",
    "   plt.imshow(env.render())\n",
    "   display.display(plt.gcf())    \n",
    "   display.clear_output(wait=True)\n",
    "   env.step(env.action_space.sample()) # take a random action\n",
    "\n",
    "env.close()"
   ]
  },
  {
   "cell_type": "code",
   "execution_count": 55,
   "id": "0370e964",
   "metadata": {},
   "outputs": [
    {
     "data": {
      "text/plain": [
       "(array([-2.1102045,  0.6586333, 11.7930155,  3.5818148], dtype=float32),\n",
       " 0.0,\n",
       " True,\n",
       " False,\n",
       " {})"
      ]
     },
     "execution_count": 55,
     "metadata": {},
     "output_type": "execute_result"
    }
   ],
   "source": [
    "env.step(1)"
   ]
  },
  {
   "cell_type": "code",
   "execution_count": 15,
   "id": "ccae428a",
   "metadata": {},
   "outputs": [
    {
     "data": {
      "text/plain": [
       "Discrete(2)"
      ]
     },
     "execution_count": 15,
     "metadata": {},
     "output_type": "execute_result"
    }
   ],
   "source": [
    "env.action_space"
   ]
  },
  {
   "cell_type": "code",
   "execution_count": 14,
   "id": "2137cb6e",
   "metadata": {},
   "outputs": [
    {
     "data": {
      "text/plain": [
       "1"
      ]
     },
     "execution_count": 14,
     "metadata": {},
     "output_type": "execute_result"
    }
   ],
   "source": [
    "env.action_space.sample()"
   ]
  },
  {
   "cell_type": "code",
   "execution_count": 18,
   "id": "7c3cbe9b",
   "metadata": {},
   "outputs": [],
   "source": [
    "env.unwrapped.state"
   ]
  },
  {
   "cell_type": "code",
   "execution_count": 52,
   "id": "1845e767",
   "metadata": {},
   "outputs": [
    {
     "data": {
      "text/plain": [
       "(array([-0.00619907, -0.01267259,  0.014233  , -0.02547821], dtype=float32),\n",
       " {})"
      ]
     },
     "execution_count": 52,
     "metadata": {},
     "output_type": "execute_result"
    }
   ],
   "source": [
    "env.reset()"
   ]
  },
  {
   "cell_type": "code",
   "execution_count": 53,
   "id": "dd73bd13",
   "metadata": {},
   "outputs": [
    {
     "data": {
      "text/plain": [
       "(array([-0.00645253, -0.20799573,  0.01372343,  0.2716612 ], dtype=float32),\n",
       " 1.0,\n",
       " False,\n",
       " False,\n",
       " {})"
      ]
     },
     "execution_count": 53,
     "metadata": {},
     "output_type": "execute_result"
    }
   ],
   "source": [
    "env.step(0)"
   ]
  },
  {
   "cell_type": "code",
   "execution_count": 54,
   "id": "86ff6aff",
   "metadata": {},
   "outputs": [
    {
     "data": {
      "text/plain": [
       "(array([-0.01061244, -0.01307226,  0.01915666, -0.01666192], dtype=float32),\n",
       " 1.0,\n",
       " False,\n",
       " False,\n",
       " {})"
      ]
     },
     "execution_count": 54,
     "metadata": {},
     "output_type": "execute_result"
    }
   ],
   "source": [
    "env.step(1)"
   ]
  },
  {
   "cell_type": "code",
   "execution_count": null,
   "id": "79b74d95",
   "metadata": {},
   "outputs": [],
   "source": []
  }
 ],
 "metadata": {
  "kernelspec": {
   "display_name": "Python 3 (ipykernel)",
   "language": "python",
   "name": "python3"
  },
  "language_info": {
   "codemirror_mode": {
    "name": "ipython",
    "version": 3
   },
   "file_extension": ".py",
   "mimetype": "text/x-python",
   "name": "python",
   "nbconvert_exporter": "python",
   "pygments_lexer": "ipython3",
   "version": "3.10.12"
  }
 },
 "nbformat": 4,
 "nbformat_minor": 5
}
