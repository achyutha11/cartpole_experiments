{
 "cells": [
  {
   "cell_type": "markdown",
   "id": "0e8a2290",
   "metadata": {},
   "source": [
    "# Cart Pole Experimentation"
   ]
  },
  {
   "cell_type": "markdown",
   "id": "923a4591",
   "metadata": {},
   "source": [
    "Cart Pole is an environment provided by OpenAI gym. This is a really basic Reinforcement Learning (RL) environment - I recently saw it described as the \"Hello World\" of RL. The environment considers a pole on a cart, and the cart can either move left or right in order to keep the pole upright. If the pole falls beyond a certain angle, or the cart moves outside certain bounds, the episode terminates. \n",
    "\n",
    "The state is defined by the observation - this has cart position, cart velocity, pole angle, and pole\n",
    "angular velocity in that order (these numbers are the output from env.reset()). env.step(action = 0 or 1) gives us observation, reward, done, info, in that order. The reward is +1 for every additional step, including the termination step. More information on the environment can be found here: https://www.gymlibrary.dev/environments/classic_control/cart_pole/"
   ]
  },
  {
   "cell_type": "markdown",
   "id": "4efa8cda",
   "metadata": {},
   "source": [
    "In this notebook, I want to build and train a RL agent to solve this environment successfully using a DDQN algorithm."
   ]
  },
  {
   "cell_type": "code",
   "execution_count": 19,
   "id": "2cf4f915",
   "metadata": {},
   "outputs": [],
   "source": [
    "%matplotlib inline\n",
    "from matplotlib import pyplot as plt\n",
    "from tensorflow.keras.layers import Dense\n",
    "from tensorflow.keras.optimizers import Adam\n",
    "from tensorflow.keras.models import Sequential\n",
    "import tensorflow as tf\n",
    "from tqdm import tqdm\n",
    "import pandas as pd\n",
    "import numpy as np\n",
    "import gymnasium as gym\n",
    "from IPython import display\n",
    "plt.rcParams['figure.dpi'] = 150"
   ]
  },
  {
   "cell_type": "markdown",
   "id": "72b48467",
   "metadata": {},
   "source": [
    "### Agent Class"
   ]
  },
  {
   "cell_type": "code",
   "execution_count": 20,
   "id": "82846799",
   "metadata": {},
   "outputs": [],
   "source": [
    "class DQNAgent():\n",
    "    \"\"\"\n",
    "    RL agent that utilizes a DQN algorithm to solve the Cart Pole environment.\n",
    "    \"\"\"\n",
    "    \n",
    "    def __init__(self, gamma=0.95, epsilon=0.9, epsilon_decay=0.995, epsilon_min=0.01, tau=0.99):\n",
    "        \"\"\"\n",
    "        Initialize agent.\n",
    "        \n",
    "        Arguments:\n",
    "            gamma (float): Future reward discounting factor\n",
    "            epsilon (float): Starting value representing percentage of the time that the agent chooses a random action. E.g 0.75 = 75%\n",
    "            epsilon_decay (float): Epsilon is multiplied by this factor after each episode.\n",
    "            epsilon_min (float): Minimum value for epsilon.\n",
    "            tau (float): Rate at which the target-q network is updated.\n",
    "            \n",
    "        Returns:\n",
    "            None\n",
    "        \"\"\"\n",
    "        self.gamma = gamma\n",
    "        self.epsilon = epsilon\n",
    "        self.epsilon_decay = epsilon_decay\n",
    "        self.epsilon_min = epsilon_min \n",
    "        self.tau = tau\n",
    "        self.q_function = self.make_q_function()\n",
    "        self.q_function.compile(loss='mse', optimizer=tf.keras.optimizers.legacy.Adam(learning_rate=1e-3)) \n",
    "        self.target_q = self.make_q_function()\n",
    "        self.target_q.compile(loss='mse', optimizer=tf.keras.optimizers.legacy.Adam())\n",
    "        self.target_q.set_weights(self.q_function.weights)\n",
    "        self.max_memory = 10000\n",
    "    \n",
    "    \n",
    "    def find_action(self, state):\n",
    "        \"\"\"\n",
    "        Taking an action according to current policy of the agent. \n",
    "        \n",
    "        Arguments:\n",
    "            state (ndarray): cart position, cart velocity, pole angle, and pole angular velocity\n",
    "        \n",
    "        Returns:\n",
    "            action (int): 0 or 1, corresponding to whether to push the cart left or right.\n",
    "        \"\"\"\n",
    "        \n",
    "        # If the random number is less than epsilon, we choose the action randomly\n",
    "        if np.random.random() < self.epsilon:\n",
    "            action = np.random.randint(0, 2)\n",
    "            \n",
    "        # Otherwise, choose the action that is the agent's current best guess for max future reward\n",
    "        else:\n",
    "            # Find action with best q-value\n",
    "            # Find q-value estimates for each action using q-function\n",
    "            q_vals = self.q_function.predict(state[np.newaxis, :], verbose=False)\n",
    "            # Find best value by taking index of the largest argument\n",
    "            action = np.argmax(q_vals)\n",
    "    \n",
    "        return action\n",
    "    \n",
    "    \n",
    "    def take_step(self, env):\n",
    "        \"\"\"\n",
    "        Take a step in the Cart Pole environment with the agent.\n",
    "        \n",
    "        Arguments:\n",
    "            env: Cart Pole environment object\n",
    "        \n",
    "        Returns:\n",
    "            old_state (ndarray): initial cart position, cart velocity, pole angle, and pole angular velocity\n",
    "            action (int): 0 or 1, corresponding to whether the cart was pushed left or right\n",
    "            reward (int): +1 if the episode has not yet terminated, 0 otherwise\n",
    "            new_state (ndarray): new cart position, cart velocity, pole angle, and pole angular velocity\n",
    "            done (bool): Whether or not episode has terminated\n",
    "        \"\"\"\n",
    "        \n",
    "        # Find action\n",
    "        action = self.find_action(self.state)\n",
    "        \n",
    "        # Take step\n",
    "        new_state, reward, done, info = env.step(action)[:4]\n",
    "        old_state = self.state\n",
    "        self.state = new_state\n",
    "        \n",
    "        return old_state, action, reward, new_state, done\n",
    "    \n",
    "    \n",
    "    def make_q_function(self):\n",
    "        \"\"\"\n",
    "        Create a q-function to estimate optimal total reward values for a given state-action pair.\n",
    "        \n",
    "        Arguments:\n",
    "            None\n",
    "        \n",
    "        Returns:\n",
    "            model: Untrained Keras sequential model. \n",
    "        \"\"\"\n",
    "        \n",
    "        # Keras Sequential model\n",
    "        # 2 outputs corresponding to left and right actions\n",
    "        model = Sequential(\n",
    "            [\n",
    "                Dense(24, activation='relu', input_shape=(4,)),\n",
    "                Dense(24, activation='relu'),\n",
    "                Dense(2, activation='linear')\n",
    "            ]\n",
    "        )\n",
    "        \n",
    "        return model\n",
    "        \n",
    "    \n",
    "    def train(self):\n",
    "        \"\"\"\n",
    "        Use memory of experience to train agent using gradient descent.\n",
    "        \n",
    "        Arguments:\n",
    "            None\n",
    "            \n",
    "        Returns:\n",
    "            None\n",
    "        \"\"\"\n",
    "            \n",
    "        # Define target = current reward + gamma * target q of next state\n",
    "        \n",
    "        # Target q network predictions of future reward\n",
    "        future_reward = np.max(self.target_q.predict(self.memory[:, -4:], verbose=False), axis=1)\n",
    "        # Accounting for steps where episode terminated (no future reward)\n",
    "        future_reward = np.where(self.memory[:, 6], 0, future_reward)\n",
    "        \n",
    "        target_vals = self.memory[:, 5] + self.gamma * future_reward\n",
    "        \n",
    "        # Creating targets\n",
    "        q_vals = self.q_function.predict(self.memory[:, :4], verbose=False)\n",
    "        \n",
    "        current_actions = self.memory[:, 4]\n",
    "        # Replacing q_function predictions with target_q targets\n",
    "        col1 = ((q_vals[:, 0] * current_actions) + ((1 - current_actions) * target_vals)).reshape(q_vals.shape[0], 1)\n",
    "        col2 = ((q_vals[:, 1] * (1 - current_actions)) + (current_actions * target_vals)).reshape(q_vals.shape[0], 1)\n",
    "        final_target = np.concatenate((col1, col2), axis=1)\n",
    "        \n",
    "        # Train q-function with mse against target-q\n",
    "        self.q_function.fit(self.memory[:, :4], final_target, shuffle=True, batch_size=64, verbose=False)\n",
    "        \n",
    "        # Using Polyak averaging to soft update target-q to be tau * target q weights + (1 - tau) * q weights\n",
    "        new_weights = [self.tau * i + (1 - self.tau) * j for i, j in zip(self.target_q.weights, self.q_function.weights)]\n",
    "        self.target_q.set_weights(new_weights) \n",
    "        \n",
    "        \n",
    "    def go(self, env, num_rounds=100):\n",
    "        \"\"\"\n",
    "        Run the agent till termination num_rounds times.\n",
    "        \n",
    "        Arguments:\n",
    "            env: Cart Pole environment object\n",
    "            num_rounds (int): Number of times we want the agent to run until termination.\n",
    "            \n",
    "        Returns:\n",
    "            None\n",
    "        \"\"\"\n",
    "        \n",
    "        # Initializing memory and episode length record\n",
    "        self.memory = np.zeros((1, 11))\n",
    "        length_lst = []\n",
    "        \n",
    "        # Each round is a complete runthrough of the environment until termination\n",
    "        for i in tqdm(range(num_rounds)):\n",
    "            \n",
    "            # Tracking whether or not current iteration has terminated\n",
    "            complete = False\n",
    "            \n",
    "            # Resetting to initial state\n",
    "            self.state = env.reset()[0]\n",
    "            \n",
    "            # Variable to keep track of number of steps taken in each round\n",
    "            length = 0\n",
    "            \n",
    "            while not complete:\n",
    "                \n",
    "                # Continue taking steps until termination\n",
    "                old_state, action, reward, new_state, done = self.take_step(env)\n",
    "                \n",
    "                # Add data to agent memory\n",
    "                if self.memory.any():\n",
    "                    curr_data = np.append(np.append(old_state, (action, reward, done)), new_state).reshape(1, 11)\n",
    "                    self.memory = np.concatenate((self.memory, curr_data), axis=0)\n",
    "                else: \n",
    "                    self.memory = (np.append(np.append(old_state, (action, reward, done)), new_state)).reshape(1, 11)\n",
    "                \n",
    "                if done:\n",
    "                    complete = True\n",
    "                    \n",
    "                length += 1\n",
    "                \n",
    "                if length > 510:\n",
    "                    break\n",
    "\n",
    "            # Sample memory if exceeding memory limit\n",
    "            # Always keep initial 1000 steps' data\n",
    "            if len(self.memory) > self.max_memory:\n",
    "                idx = np.random.randint(1000, len(self.memory), size=self.max_memory - 1000) \n",
    "                self.memory = self.memory[np.append(np.arange(1000), idx), :]\n",
    "\n",
    "            # Need > 64 for batch size\n",
    "            if len(self.memory) > 64:\n",
    "                self.train()\n",
    "                \n",
    "             # Decrease epsilon\n",
    "            self.epsilon *= self.epsilon_decay\n",
    "            self.epsilon = max(self.epsilon, self.epsilon_min)\n",
    "            \n",
    "            length_lst.append(length)\n",
    "            \n",
    "            if np.mean(length_lst[-10:]) >= 500:\n",
    "                break\n",
    "            \n",
    "            if i % 10 == 0:\n",
    "                print(\"Episode {}: \\nlast 10 reward avg: {} \\nepsilon: {} \\nMemory size: {}\".format(i, np.mean(length_lst[-10:]), self.epsilon, self.memory.shape[0]))\n",
    "                               \n",
    "        return length_lst\n"
   ]
  },
  {
   "cell_type": "markdown",
   "id": "92b768e8",
   "metadata": {},
   "source": [
    "### Function for performance evaluation"
   ]
  },
  {
   "cell_type": "code",
   "execution_count": 21,
   "id": "40c9d923",
   "metadata": {},
   "outputs": [],
   "source": [
    "def rolling_average(lengths, window):\n",
    "    \"\"\"\n",
    "    Find the rolling average of the episode length.\n",
    "    \n",
    "    Arguments:\n",
    "        lengths (lst): List of episode lengths\n",
    "        window (int): Length of rolling average window of consideration\n",
    "        \n",
    "    Returns:\n",
    "        avgs (lst):\n",
    "    \"\"\"\n",
    "    avgs = []\n",
    "    for i in range(len(lengths)):\n",
    "        if i < window:\n",
    "            avgs.append(0)\n",
    "        else:\n",
    "            avgs.append(np.mean(lengths[i - window: i]))\n",
    "    return avgs"
   ]
  },
  {
   "cell_type": "markdown",
   "id": "99125976",
   "metadata": {},
   "source": [
    "### Building and evaluating agent"
   ]
  },
  {
   "cell_type": "code",
   "execution_count": 22,
   "id": "fb100541",
   "metadata": {},
   "outputs": [],
   "source": [
    "agent = DQNAgent()"
   ]
  },
  {
   "cell_type": "code",
   "execution_count": 23,
   "id": "d41628ee",
   "metadata": {},
   "outputs": [],
   "source": [
    "env = gym.make('CartPole-v1', render_mode='rgb_array')"
   ]
  },
  {
   "cell_type": "code",
   "execution_count": 24,
   "id": "dfdbcef8",
   "metadata": {
    "scrolled": true
   },
   "outputs": [
    {
     "name": "stderr",
     "output_type": "stream",
     "text": [
      "  0%|                                                                                                    | 0/1000 [00:00<?, ?it/s]"
     ]
    },
    {
     "name": "stdout",
     "output_type": "stream",
     "text": [
      "Episode 0: \n",
      "last 10 reward avg: 13.0 \n",
      "epsilon: 0.8955 \n",
      "Memory size: 13\n"
     ]
    },
    {
     "name": "stderr",
     "output_type": "stream",
     "text": [
      "  1%|█                                                                                          | 12/1000 [00:01<02:14,  7.35it/s]"
     ]
    },
    {
     "name": "stdout",
     "output_type": "stream",
     "text": [
      "Episode 10: \n",
      "last 10 reward avg: 32.0 \n",
      "epsilon: 0.8517191218320987 \n",
      "Memory size: 333\n"
     ]
    },
    {
     "name": "stderr",
     "output_type": "stream",
     "text": [
      "  2%|██                                                                                         | 22/1000 [00:02<01:55,  8.49it/s]"
     ]
    },
    {
     "name": "stdout",
     "output_type": "stream",
     "text": [
      "Episode 20: \n",
      "last 10 reward avg: 22.2 \n",
      "epsilon: 0.8100786850859201 \n",
      "Memory size: 555\n"
     ]
    },
    {
     "name": "stderr",
     "output_type": "stream",
     "text": [
      "  3%|██▊                                                                                        | 31/1000 [00:04<04:53,  3.30it/s]"
     ]
    },
    {
     "name": "stdout",
     "output_type": "stream",
     "text": [
      "Episode 30: \n",
      "last 10 reward avg: 39.9 \n",
      "epsilon: 0.7704740438596104 \n",
      "Memory size: 954\n"
     ]
    },
    {
     "name": "stderr",
     "output_type": "stream",
     "text": [
      "  4%|███▊                                                                                       | 42/1000 [00:07<02:59,  5.32it/s]"
     ]
    },
    {
     "name": "stdout",
     "output_type": "stream",
     "text": [
      "Episode 40: \n",
      "last 10 reward avg: 18.9 \n",
      "epsilon: 0.7328056683758049 \n",
      "Memory size: 1143\n"
     ]
    },
    {
     "name": "stderr",
     "output_type": "stream",
     "text": [
      "  5%|████▋                                                                                      | 51/1000 [00:08<02:46,  5.69it/s]"
     ]
    },
    {
     "name": "stdout",
     "output_type": "stream",
     "text": [
      "Episode 50: \n",
      "last 10 reward avg: 14.7 \n",
      "epsilon: 0.6969788948549688 \n",
      "Memory size: 1290\n"
     ]
    },
    {
     "name": "stderr",
     "output_type": "stream",
     "text": [
      "  6%|█████▋                                                                                     | 62/1000 [00:11<02:53,  5.39it/s]"
     ]
    },
    {
     "name": "stdout",
     "output_type": "stream",
     "text": [
      "Episode 60: \n",
      "last 10 reward avg: 16.5 \n",
      "epsilon: 0.6629036876173989 \n",
      "Memory size: 1455\n"
     ]
    },
    {
     "name": "stderr",
     "output_type": "stream",
     "text": [
      "  7%|██████▍                                                                                    | 71/1000 [00:12<03:06,  4.97it/s]"
     ]
    },
    {
     "name": "stdout",
     "output_type": "stream",
     "text": [
      "Episode 70: \n",
      "last 10 reward avg: 13.4 \n",
      "epsilon: 0.6304944128160256 \n",
      "Memory size: 1589\n"
     ]
    },
    {
     "name": "stderr",
     "output_type": "stream",
     "text": [
      "  8%|███████▎                                                                                   | 81/1000 [00:15<04:27,  3.44it/s]"
     ]
    },
    {
     "name": "stdout",
     "output_type": "stream",
     "text": [
      "Episode 80: \n",
      "last 10 reward avg: 18.3 \n",
      "epsilon: 0.5996696232313903 \n",
      "Memory size: 1772\n"
     ]
    },
    {
     "name": "stderr",
     "output_type": "stream",
     "text": [
      "  9%|████████▎                                                                                  | 91/1000 [00:18<04:52,  3.11it/s]"
     ]
    },
    {
     "name": "stdout",
     "output_type": "stream",
     "text": [
      "Episode 90: \n",
      "last 10 reward avg: 24.8 \n",
      "epsilon: 0.5703518535879679 \n",
      "Memory size: 2020\n"
     ]
    },
    {
     "name": "stderr",
     "output_type": "stream",
     "text": [
      " 10%|█████████                                                                                 | 101/1000 [00:22<06:06,  2.45it/s]"
     ]
    },
    {
     "name": "stdout",
     "output_type": "stream",
     "text": [
      "Episode 100: \n",
      "last 10 reward avg: 28.8 \n",
      "epsilon: 0.542467425877447 \n",
      "Memory size: 2308\n"
     ]
    },
    {
     "name": "stderr",
     "output_type": "stream",
     "text": [
      " 11%|█████████▉                                                                                | 111/1000 [00:27<08:18,  1.78it/s]"
     ]
    },
    {
     "name": "stdout",
     "output_type": "stream",
     "text": [
      "Episode 110: \n",
      "last 10 reward avg: 38.6 \n",
      "epsilon: 0.5159462641997301 \n",
      "Memory size: 2694\n"
     ]
    },
    {
     "name": "stderr",
     "output_type": "stream",
     "text": [
      " 12%|██████████▉                                                                               | 121/1000 [00:33<09:37,  1.52it/s]"
     ]
    },
    {
     "name": "stdout",
     "output_type": "stream",
     "text": [
      "Episode 120: \n",
      "last 10 reward avg: 51.5 \n",
      "epsilon: 0.49072171865633285 \n",
      "Memory size: 3209\n"
     ]
    },
    {
     "name": "stderr",
     "output_type": "stream",
     "text": [
      " 13%|███████████▊                                                                              | 131/1000 [00:42<11:02,  1.31it/s]"
     ]
    },
    {
     "name": "stdout",
     "output_type": "stream",
     "text": [
      "Episode 130: \n",
      "last 10 reward avg: 71.6 \n",
      "epsilon: 0.46673039785361253 \n",
      "Memory size: 3925\n"
     ]
    },
    {
     "name": "stderr",
     "output_type": "stream",
     "text": [
      " 14%|████████████▋                                                                             | 141/1000 [00:49<10:29,  1.36it/s]"
     ]
    },
    {
     "name": "stdout",
     "output_type": "stream",
     "text": [
      "Episode 140: \n",
      "last 10 reward avg: 54.7 \n",
      "epsilon: 0.4439120095948909 \n",
      "Memory size: 4472\n"
     ]
    },
    {
     "name": "stderr",
     "output_type": "stream",
     "text": [
      " 15%|█████████████▌                                                                            | 151/1000 [00:59<14:43,  1.04s/it]"
     ]
    },
    {
     "name": "stdout",
     "output_type": "stream",
     "text": [
      "Episode 150: \n",
      "last 10 reward avg: 77.8 \n",
      "epsilon: 0.42220920936111966 \n",
      "Memory size: 5250\n"
     ]
    },
    {
     "name": "stderr",
     "output_type": "stream",
     "text": [
      " 16%|██████████████▍                                                                           | 161/1000 [01:12<22:56,  1.64s/it]"
     ]
    },
    {
     "name": "stdout",
     "output_type": "stream",
     "text": [
      "Episode 160: \n",
      "last 10 reward avg: 103.1 \n",
      "epsilon: 0.4015674561993049 \n",
      "Memory size: 6281\n"
     ]
    },
    {
     "name": "stderr",
     "output_type": "stream",
     "text": [
      " 17%|███████████████▍                                                                          | 171/1000 [01:24<21:45,  1.57s/it]"
     ]
    },
    {
     "name": "stdout",
     "output_type": "stream",
     "text": [
      "Episode 170: \n",
      "last 10 reward avg: 92.0 \n",
      "epsilon: 0.38193487565652895 \n",
      "Memory size: 7201\n"
     ]
    },
    {
     "name": "stderr",
     "output_type": "stream",
     "text": [
      " 18%|████████████████▎                                                                         | 181/1000 [01:41<21:01,  1.54s/it]"
     ]
    },
    {
     "name": "stdout",
     "output_type": "stream",
     "text": [
      "Episode 180: \n",
      "last 10 reward avg: 118.3 \n",
      "epsilon: 0.36326212941510955 \n",
      "Memory size: 8384\n"
     ]
    },
    {
     "name": "stderr",
     "output_type": "stream",
     "text": [
      " 19%|█████████████████▏                                                                        | 191/1000 [01:55<19:11,  1.42s/it]"
     ]
    },
    {
     "name": "stdout",
     "output_type": "stream",
     "text": [
      "Episode 190: \n",
      "last 10 reward avg: 104.6 \n",
      "epsilon: 0.3455022913012789 \n",
      "Memory size: 9430\n"
     ]
    },
    {
     "name": "stderr",
     "output_type": "stream",
     "text": [
      " 20%|██████████████████                                                                        | 201/1000 [02:11<19:11,  1.44s/it]"
     ]
    },
    {
     "name": "stdout",
     "output_type": "stream",
     "text": [
      "Episode 200: \n",
      "last 10 reward avg: 104.6 \n",
      "epsilon: 0.3286107293557825 \n",
      "Memory size: 10000\n"
     ]
    },
    {
     "name": "stderr",
     "output_type": "stream",
     "text": [
      " 21%|██████████████████▉                                                                       | 211/1000 [02:22<16:07,  1.23s/it]"
     ]
    },
    {
     "name": "stdout",
     "output_type": "stream",
     "text": [
      "Episode 210: \n",
      "last 10 reward avg: 63.4 \n",
      "epsilon: 0.3125449936700307 \n",
      "Memory size: 10000\n"
     ]
    },
    {
     "name": "stderr",
     "output_type": "stream",
     "text": [
      " 22%|███████████████████▉                                                                      | 221/1000 [02:38<16:58,  1.31s/it]"
     ]
    },
    {
     "name": "stdout",
     "output_type": "stream",
     "text": [
      "Episode 220: \n",
      "last 10 reward avg: 103.0 \n",
      "epsilon: 0.29726470970592683 \n",
      "Memory size: 10000\n"
     ]
    },
    {
     "name": "stderr",
     "output_type": "stream",
     "text": [
      " 23%|████████████████████▊                                                                     | 231/1000 [02:49<16:05,  1.26s/it]"
     ]
    },
    {
     "name": "stdout",
     "output_type": "stream",
     "text": [
      "Episode 230: \n",
      "last 10 reward avg: 62.1 \n",
      "epsilon: 0.28273147683127386 \n",
      "Memory size: 10000\n"
     ]
    },
    {
     "name": "stderr",
     "output_type": "stream",
     "text": [
      " 24%|█████████████████████▋                                                                    | 241/1000 [03:03<16:03,  1.27s/it]"
     ]
    },
    {
     "name": "stdout",
     "output_type": "stream",
     "text": [
      "Episode 240: \n",
      "last 10 reward avg: 73.7 \n",
      "epsilon: 0.2689087718157732 \n",
      "Memory size: 10000\n"
     ]
    },
    {
     "name": "stderr",
     "output_type": "stream",
     "text": [
      " 25%|██████████████████████▌                                                                   | 251/1000 [03:15<14:23,  1.15s/it]"
     ]
    },
    {
     "name": "stdout",
     "output_type": "stream",
     "text": [
      "Episode 250: \n",
      "last 10 reward avg: 70.5 \n",
      "epsilon: 0.2557618570450905 \n",
      "Memory size: 10000\n"
     ]
    },
    {
     "name": "stderr",
     "output_type": "stream",
     "text": [
      " 26%|███████████████████████▍                                                                  | 261/1000 [03:24<10:54,  1.13it/s]"
     ]
    },
    {
     "name": "stdout",
     "output_type": "stream",
     "text": [
      "Episode 260: \n",
      "last 10 reward avg: 38.6 \n",
      "epsilon: 0.24325769322232413 \n",
      "Memory size: 10000\n"
     ]
    },
    {
     "name": "stderr",
     "output_type": "stream",
     "text": [
      " 27%|████████████████████████▍                                                                 | 271/1000 [03:35<13:39,  1.12s/it]"
     ]
    },
    {
     "name": "stdout",
     "output_type": "stream",
     "text": [
      "Episode 270: \n",
      "last 10 reward avg: 60.3 \n",
      "epsilon: 0.2313648563374874 \n",
      "Memory size: 10000\n"
     ]
    },
    {
     "name": "stderr",
     "output_type": "stream",
     "text": [
      " 28%|█████████████████████████▎                                                                | 281/1000 [03:46<11:04,  1.08it/s]"
     ]
    },
    {
     "name": "stdout",
     "output_type": "stream",
     "text": [
      "Episode 280: \n",
      "last 10 reward avg: 51.2 \n",
      "epsilon: 0.22005345869634219 \n",
      "Memory size: 10000\n"
     ]
    },
    {
     "name": "stderr",
     "output_type": "stream",
     "text": [
      " 29%|██████████████████████████▏                                                               | 291/1000 [03:56<11:52,  1.01s/it]"
     ]
    },
    {
     "name": "stdout",
     "output_type": "stream",
     "text": [
      "Episode 290: \n",
      "last 10 reward avg: 50.7 \n",
      "epsilon: 0.20929507381012238 \n",
      "Memory size: 10000\n"
     ]
    },
    {
     "name": "stderr",
     "output_type": "stream",
     "text": [
      " 30%|███████████████████████████                                                               | 301/1000 [04:11<18:47,  1.61s/it]"
     ]
    },
    {
     "name": "stdout",
     "output_type": "stream",
     "text": [
      "Episode 300: \n",
      "last 10 reward avg: 78.4 \n",
      "epsilon: 0.19906266495738884 \n",
      "Memory size: 10000\n"
     ]
    },
    {
     "name": "stderr",
     "output_type": "stream",
     "text": [
      " 31%|███████████████████████████▉                                                              | 311/1000 [04:35<25:41,  2.24s/it]"
     ]
    },
    {
     "name": "stdout",
     "output_type": "stream",
     "text": [
      "Episode 310: \n",
      "last 10 reward avg: 137.0 \n",
      "epsilon: 0.18933051723848632 \n",
      "Memory size: 10000\n"
     ]
    },
    {
     "name": "stderr",
     "output_type": "stream",
     "text": [
      " 32%|████████████████████████████▉                                                             | 321/1000 [04:58<35:24,  3.13s/it]"
     ]
    },
    {
     "name": "stdout",
     "output_type": "stream",
     "text": [
      "Episode 320: \n",
      "last 10 reward avg: 134.1 \n",
      "epsilon: 0.18007417295184883 \n",
      "Memory size: 10000\n"
     ]
    },
    {
     "name": "stderr",
     "output_type": "stream",
     "text": [
      " 33%|█████████████████████████████▊                                                            | 331/1000 [05:22<20:35,  1.85s/it]"
     ]
    },
    {
     "name": "stdout",
     "output_type": "stream",
     "text": [
      "Episode 330: \n",
      "last 10 reward avg: 138.2 \n",
      "epsilon: 0.1712703701297489 \n",
      "Memory size: 10000\n"
     ]
    },
    {
     "name": "stderr",
     "output_type": "stream",
     "text": [
      " 34%|██████████████████████████████▋                                                           | 341/1000 [05:38<20:37,  1.88s/it]"
     ]
    },
    {
     "name": "stdout",
     "output_type": "stream",
     "text": [
      "Episode 340: \n",
      "last 10 reward avg: 80.0 \n",
      "epsilon: 0.1628969840790265 \n",
      "Memory size: 10000\n"
     ]
    },
    {
     "name": "stderr",
     "output_type": "stream",
     "text": [
      " 35%|███████████████████████████████▌                                                          | 351/1000 [06:01<29:48,  2.76s/it]"
     ]
    },
    {
     "name": "stdout",
     "output_type": "stream",
     "text": [
      "Episode 350: \n",
      "last 10 reward avg: 126.6 \n",
      "epsilon: 0.15493297177988366 \n",
      "Memory size: 10000\n"
     ]
    },
    {
     "name": "stderr",
     "output_type": "stream",
     "text": [
      " 36%|████████████████████████████████▍                                                         | 361/1000 [06:33<37:35,  3.53s/it]"
     ]
    },
    {
     "name": "stdout",
     "output_type": "stream",
     "text": [
      "Episode 360: \n",
      "last 10 reward avg: 179.6 \n",
      "epsilon: 0.14735831900301485 \n",
      "Memory size: 10000\n"
     ]
    },
    {
     "name": "stderr",
     "output_type": "stream",
     "text": [
      " 37%|█████████████████████████████████▍                                                        | 371/1000 [07:09<40:40,  3.88s/it]"
     ]
    },
    {
     "name": "stdout",
     "output_type": "stream",
     "text": [
      "Episode 370: \n",
      "last 10 reward avg: 199.7 \n",
      "epsilon: 0.14015399001217427 \n",
      "Memory size: 10000\n"
     ]
    },
    {
     "name": "stderr",
     "output_type": "stream",
     "text": [
      " 38%|██████████████████████████████████▎                                                       | 381/1000 [07:50<40:56,  3.97s/it]"
     ]
    },
    {
     "name": "stdout",
     "output_type": "stream",
     "text": [
      "Episode 380: \n",
      "last 10 reward avg: 229.6 \n",
      "epsilon: 0.13330187972577753 \n",
      "Memory size: 10000\n"
     ]
    },
    {
     "name": "stderr",
     "output_type": "stream",
     "text": [
      " 39%|███████████████████████████████████▏                                                      | 391/1000 [08:29<42:50,  4.22s/it]"
     ]
    },
    {
     "name": "stdout",
     "output_type": "stream",
     "text": [
      "Episode 390: \n",
      "last 10 reward avg: 224.5 \n",
      "epsilon: 0.1267847682173169 \n",
      "Memory size: 10000\n"
     ]
    },
    {
     "name": "stderr",
     "output_type": "stream",
     "text": [
      " 40%|████████████████████████████████████                                                      | 401/1000 [09:03<30:47,  3.08s/it]"
     ]
    },
    {
     "name": "stdout",
     "output_type": "stream",
     "text": [
      "Episode 400: \n",
      "last 10 reward avg: 191.7 \n",
      "epsilon: 0.12058627744024493 \n",
      "Memory size: 10000\n"
     ]
    },
    {
     "name": "stderr",
     "output_type": "stream",
     "text": [
      " 41%|████████████████████████████████████▉                                                     | 411/1000 [09:42<36:56,  3.76s/it]"
     ]
    },
    {
     "name": "stdout",
     "output_type": "stream",
     "text": [
      "Episode 410: \n",
      "last 10 reward avg: 216.6 \n",
      "epsilon: 0.11469083006857313 \n",
      "Memory size: 10000\n"
     ]
    },
    {
     "name": "stderr",
     "output_type": "stream",
     "text": [
      " 42%|█████████████████████████████████████▉                                                    | 421/1000 [10:22<34:18,  3.56s/it]"
     ]
    },
    {
     "name": "stdout",
     "output_type": "stream",
     "text": [
      "Episode 420: \n",
      "last 10 reward avg: 219.3 \n",
      "epsilon: 0.10908361034974827 \n",
      "Memory size: 10000\n"
     ]
    },
    {
     "name": "stderr",
     "output_type": "stream",
     "text": [
      " 43%|██████████████████████████████████████▊                                                   | 431/1000 [11:07<41:45,  4.40s/it]"
     ]
    },
    {
     "name": "stdout",
     "output_type": "stream",
     "text": [
      "Episode 430: \n",
      "last 10 reward avg: 249.5 \n",
      "epsilon: 0.1037505268714265 \n",
      "Memory size: 10000\n"
     ]
    },
    {
     "name": "stderr",
     "output_type": "stream",
     "text": [
      " 44%|███████████████████████████████████████▋                                                  | 441/1000 [11:54<44:04,  4.73s/it]"
     ]
    },
    {
     "name": "stdout",
     "output_type": "stream",
     "text": [
      "Episode 440: \n",
      "last 10 reward avg: 265.8 \n",
      "epsilon: 0.09867817714857503 \n",
      "Memory size: 10000\n"
     ]
    },
    {
     "name": "stderr",
     "output_type": "stream",
     "text": [
      " 45%|████████████████████████████████████████▌                                                 | 451/1000 [12:38<42:13,  4.61s/it]"
     ]
    },
    {
     "name": "stdout",
     "output_type": "stream",
     "text": [
      "Episode 450: \n",
      "last 10 reward avg: 246.7 \n",
      "epsilon: 0.09385381394190573 \n",
      "Memory size: 10000\n"
     ]
    },
    {
     "name": "stderr",
     "output_type": "stream",
     "text": [
      " 46%|█████████████████████████████████████████▍                                                | 461/1000 [13:23<40:59,  4.56s/it]"
     ]
    },
    {
     "name": "stdout",
     "output_type": "stream",
     "text": [
      "Episode 460: \n",
      "last 10 reward avg: 246.9 \n",
      "epsilon: 0.08926531322299625 \n",
      "Memory size: 10000\n"
     ]
    },
    {
     "name": "stderr",
     "output_type": "stream",
     "text": [
      " 47%|██████████████████████████████████████████▍                                               | 471/1000 [14:11<36:35,  4.15s/it]"
     ]
    },
    {
     "name": "stdout",
     "output_type": "stream",
     "text": [
      "Episode 470: \n",
      "last 10 reward avg: 258.6 \n",
      "epsilon: 0.08490114370559193 \n",
      "Memory size: 10000\n"
     ]
    },
    {
     "name": "stderr",
     "output_type": "stream",
     "text": [
      " 48%|███████████████████████████████████████████▎                                              | 481/1000 [15:01<38:56,  4.50s/it]"
     ]
    },
    {
     "name": "stdout",
     "output_type": "stream",
     "text": [
      "Episode 480: \n",
      "last 10 reward avg: 274.7 \n",
      "epsilon: 0.08075033786651878 \n",
      "Memory size: 10000\n"
     ]
    },
    {
     "name": "stderr",
     "output_type": "stream",
     "text": [
      " 49%|████████████████████████████████████████████▏                                             | 491/1000 [15:47<34:47,  4.10s/it]"
     ]
    },
    {
     "name": "stdout",
     "output_type": "stream",
     "text": [
      "Episode 490: \n",
      "last 10 reward avg: 247.7 \n",
      "epsilon: 0.07680246438337983 \n",
      "Memory size: 10000\n"
     ]
    },
    {
     "name": "stderr",
     "output_type": "stream",
     "text": [
      " 50%|█████████████████████████████████████████████                                             | 501/1000 [16:34<42:03,  5.06s/it]"
     ]
    },
    {
     "name": "stdout",
     "output_type": "stream",
     "text": [
      "Episode 500: \n",
      "last 10 reward avg: 258.0 \n",
      "epsilon: 0.07304760191976918 \n",
      "Memory size: 10000\n"
     ]
    },
    {
     "name": "stderr",
     "output_type": "stream",
     "text": [
      " 51%|█████████████████████████████████████████████▉                                            | 511/1000 [17:20<35:11,  4.32s/it]"
     ]
    },
    {
     "name": "stdout",
     "output_type": "stream",
     "text": [
      "Episode 510: \n",
      "last 10 reward avg: 248.8 \n",
      "epsilon: 0.06947631419212345 \n",
      "Memory size: 10000\n"
     ]
    },
    {
     "name": "stderr",
     "output_type": "stream",
     "text": [
      " 52%|██████████████████████████████████████████████▉                                           | 521/1000 [18:12<45:00,  5.64s/it]"
     ]
    },
    {
     "name": "stdout",
     "output_type": "stream",
     "text": [
      "Episode 520: \n",
      "last 10 reward avg: 276.4 \n",
      "epsilon: 0.0660796262555515 \n",
      "Memory size: 10000\n"
     ]
    },
    {
     "name": "stderr",
     "output_type": "stream",
     "text": [
      " 53%|███████████████████████████████████████████████▊                                          | 531/1000 [18:59<34:45,  4.45s/it]"
     ]
    },
    {
     "name": "stdout",
     "output_type": "stream",
     "text": [
      "Episode 530: \n",
      "last 10 reward avg: 253.5 \n",
      "epsilon: 0.06284900194904704 \n",
      "Memory size: 10000\n"
     ]
    },
    {
     "name": "stderr",
     "output_type": "stream",
     "text": [
      " 54%|████████████████████████████████████████████████▋                                         | 541/1000 [19:46<34:07,  4.46s/it]"
     ]
    },
    {
     "name": "stdout",
     "output_type": "stream",
     "text": [
      "Episode 540: \n",
      "last 10 reward avg: 247.2 \n",
      "epsilon: 0.05977632244340168 \n",
      "Memory size: 10000\n"
     ]
    },
    {
     "name": "stderr",
     "output_type": "stream",
     "text": [
      " 55%|█████████████████████████████████████████████████▌                                        | 551/1000 [20:44<47:25,  6.34s/it]"
     ]
    },
    {
     "name": "stdout",
     "output_type": "stream",
     "text": [
      "Episode 550: \n",
      "last 10 reward avg: 313.1 \n",
      "epsilon: 0.05685386583790782 \n",
      "Memory size: 10000\n"
     ]
    },
    {
     "name": "stderr",
     "output_type": "stream",
     "text": [
      " 56%|██████████████████████████████████████████████████▍                                       | 561/1000 [21:50<51:43,  7.07s/it]"
     ]
    },
    {
     "name": "stdout",
     "output_type": "stream",
     "text": [
      "Episode 560: \n",
      "last 10 reward avg: 355.2 \n",
      "epsilon: 0.054074287754576 \n",
      "Memory size: 10000\n"
     ]
    },
    {
     "name": "stderr",
     "output_type": "stream",
     "text": [
      " 57%|██████████████████████████████████████████████████▏                                     | 571/1000 [23:10<1:04:05,  8.96s/it]"
     ]
    },
    {
     "name": "stdout",
     "output_type": "stream",
     "text": [
      "Episode 570: \n",
      "last 10 reward avg: 438.0 \n",
      "epsilon: 0.05143060288109847 \n",
      "Memory size: 10000\n"
     ]
    },
    {
     "name": "stderr",
     "output_type": "stream",
     "text": [
      " 58%|████████████████████████████████████████████████████▎                                     | 581/1000 [24:20<40:20,  5.78s/it]"
     ]
    },
    {
     "name": "stdout",
     "output_type": "stream",
     "text": [
      "Episode 580: \n",
      "last 10 reward avg: 377.2 \n",
      "epsilon: 0.048916167416174876 \n",
      "Memory size: 10000\n"
     ]
    },
    {
     "name": "stderr",
     "output_type": "stream",
     "text": [
      " 59%|█████████████████████████████████████████████████████▏                                    | 591/1000 [25:35<47:05,  6.91s/it]"
     ]
    },
    {
     "name": "stdout",
     "output_type": "stream",
     "text": [
      "Episode 590: \n",
      "last 10 reward avg: 398.7 \n",
      "epsilon: 0.04652466237308362 \n",
      "Memory size: 10000\n"
     ]
    },
    {
     "name": "stderr",
     "output_type": "stream",
     "text": [
      " 60%|██████████████████████████████████████████████████████                                    | 601/1000 [26:51<55:50,  8.40s/it]"
     ]
    },
    {
     "name": "stdout",
     "output_type": "stream",
     "text": [
      "Episode 600: \n",
      "last 10 reward avg: 405.4 \n",
      "epsilon: 0.044250077699539536 \n",
      "Memory size: 10000\n"
     ]
    },
    {
     "name": "stderr",
     "output_type": "stream",
     "text": [
      " 61%|██████████████████████████████████████████████████████▉                                   | 611/1000 [27:34<32:02,  4.94s/it]"
     ]
    },
    {
     "name": "stdout",
     "output_type": "stream",
     "text": [
      "Episode 610: \n",
      "last 10 reward avg: 227.5 \n",
      "epsilon: 0.04208669717392959 \n",
      "Memory size: 10000\n"
     ]
    },
    {
     "name": "stderr",
     "output_type": "stream",
     "text": [
      " 62%|███████████████████████████████████████████████████████▉                                  | 621/1000 [28:16<24:52,  3.94s/it]"
     ]
    },
    {
     "name": "stdout",
     "output_type": "stream",
     "text": [
      "Episode 620: \n",
      "last 10 reward avg: 212.7 \n",
      "epsilon: 0.040029084039969604 \n",
      "Memory size: 10000\n"
     ]
    },
    {
     "name": "stderr",
     "output_type": "stream",
     "text": [
      " 63%|████████████████████████████████████████████████████████▊                                 | 631/1000 [28:47<13:48,  2.25s/it]"
     ]
    },
    {
     "name": "stdout",
     "output_type": "stream",
     "text": [
      "Episode 630: \n",
      "last 10 reward avg: 158.3 \n",
      "epsilon: 0.03807206734368084 \n",
      "Memory size: 10000\n"
     ]
    },
    {
     "name": "stderr",
     "output_type": "stream",
     "text": [
      " 64%|█████████████████████████████████████████████████████████▋                                | 641/1000 [29:22<19:05,  3.19s/it]"
     ]
    },
    {
     "name": "stdout",
     "output_type": "stream",
     "text": [
      "Episode 640: \n",
      "last 10 reward avg: 174.8 \n",
      "epsilon: 0.03621072893834994 \n",
      "Memory size: 10000\n"
     ]
    },
    {
     "name": "stderr",
     "output_type": "stream",
     "text": [
      " 65%|██████████████████████████████████████████████████████████▌                               | 651/1000 [30:25<36:31,  6.28s/it]"
     ]
    },
    {
     "name": "stdout",
     "output_type": "stream",
     "text": [
      "Episode 650: \n",
      "last 10 reward avg: 335.9 \n",
      "epsilon: 0.03444039112481471 \n",
      "Memory size: 10000\n"
     ]
    },
    {
     "name": "stderr",
     "output_type": "stream",
     "text": [
      " 66%|███████████████████████████████████████████████████████████▍                              | 661/1000 [30:40<09:18,  1.65s/it]"
     ]
    },
    {
     "name": "stdout",
     "output_type": "stream",
     "text": [
      "Episode 660: \n",
      "last 10 reward avg: 65.9 \n",
      "epsilon: 0.03275660489601471 \n",
      "Memory size: 10000\n"
     ]
    },
    {
     "name": "stderr",
     "output_type": "stream",
     "text": [
      " 67%|████████████████████████████████████████████████████████████▍                             | 671/1000 [31:24<16:32,  3.02s/it]"
     ]
    },
    {
     "name": "stdout",
     "output_type": "stream",
     "text": [
      "Episode 670: \n",
      "last 10 reward avg: 221.1 \n",
      "epsilon: 0.031155138756264293 \n",
      "Memory size: 10000\n"
     ]
    },
    {
     "name": "stderr",
     "output_type": "stream",
     "text": [
      " 68%|█████████████████████████████████████████████████████████████▎                            | 681/1000 [32:20<39:03,  7.35s/it]"
     ]
    },
    {
     "name": "stdout",
     "output_type": "stream",
     "text": [
      "Episode 680: \n",
      "last 10 reward avg: 286.1 \n",
      "epsilon: 0.029631968087149758 \n",
      "Memory size: 10000\n"
     ]
    },
    {
     "name": "stderr",
     "output_type": "stream",
     "text": [
      " 69%|██████████████████████████████████████████████████████████████▏                           | 691/1000 [33:23<37:29,  7.28s/it]"
     ]
    },
    {
     "name": "stdout",
     "output_type": "stream",
     "text": [
      "Episode 690: \n",
      "last 10 reward avg: 329.4 \n",
      "epsilon: 0.028183265033326587 \n",
      "Memory size: 10000\n"
     ]
    },
    {
     "name": "stderr",
     "output_type": "stream",
     "text": [
      " 70%|██████████████████████████████████████████████████████████████▋                           | 697/1000 [34:29<14:59,  2.97s/it]\n"
     ]
    }
   ],
   "source": [
    "lengths = agent.go(env, num_rounds=1000)"
   ]
  },
  {
   "cell_type": "code",
   "execution_count": 28,
   "id": "9b7e7bc8",
   "metadata": {
    "scrolled": true
   },
   "outputs": [
    {
     "data": {
      "text/plain": [
       "Text(0, 0.5, 'Episode length')"
      ]
     },
     "execution_count": 28,
     "metadata": {},
     "output_type": "execute_result"
    },
    {
     "data": {
      "image/png": "[encoded data removed]",
      "text/plain": [
       "<Figure size 960x720 with 1 Axes>"
      ]
     },
     "metadata": {},
     "output_type": "display_data"
    }
   ],
   "source": [
    "iters = np.arange(len(lengths))\n",
    "plt.plot(iters, rolling_average(lengths, 10))\n",
    "plt.xlabel(\"Iteration number\")\n",
    "plt.ylabel(\"Episode length\")"
   ]
  },
  {
   "cell_type": "code",
   "execution_count": 33,
   "id": "32b4d3d5",
   "metadata": {},
   "outputs": [
    {
     "name": "stderr",
     "output_type": "stream",
     "text": [
      "100%|███████████████████████████████████████████████████████████████████████████████████████████| 100/100 [14:00<00:00,  8.41s/it]\n"
     ]
    }
   ],
   "source": [
    "done = False\n",
    "\n",
    "env = gym.make('CartPole-v1', render_mode='rgb_array')\n",
    "agent.state = env.reset()[0]\n",
    "agent_lengths = []\n",
    "\n",
    "for i in tqdm(range(100)):\n",
    "    \n",
    "    env.reset()\n",
    "    \n",
    "    ep_length = 0\n",
    "    \n",
    "    done = False\n",
    "    \n",
    "    while not done:\n",
    "        _, _, _, _, done = agent.take_step(env)\n",
    "        ep_length += 1\n",
    "        if ep_length > 500:\n",
    "            break\n",
    "    \n",
    "    agent_lengths.append(ep_length)"
   ]
  },
  {
   "cell_type": "code",
   "execution_count": 34,
   "id": "935b398b",
   "metadata": {},
   "outputs": [
    {
     "name": "stderr",
     "output_type": "stream",
     "text": [
      "100%|█████████████████████████████████████████████████████████████████████████████████████████| 100/100 [00:00<00:00, 3033.99it/s]\n"
     ]
    }
   ],
   "source": [
    "done = False\n",
    "\n",
    "env = gym.make('CartPole-v1', render_mode='rgb_array')\n",
    "random_lengths = []\n",
    "\n",
    "for i in tqdm(range(100)):\n",
    "    \n",
    "    env.reset()\n",
    "    \n",
    "    done = False\n",
    "    \n",
    "    ep_length = 0\n",
    "    \n",
    "    while not done:\n",
    "        action = np.random.randint(0, 2)\n",
    "        _, _, done, _, _ = env.step(action)\n",
    "        ep_length += 1\n",
    "    \n",
    "    random_lengths.append(ep_length)"
   ]
  },
  {
   "cell_type": "code",
   "execution_count": 35,
   "id": "70d8a8ac",
   "metadata": {},
   "outputs": [
    {
     "data": {
      "text/plain": [
       "465.2"
      ]
     },
     "execution_count": 35,
     "metadata": {},
     "output_type": "execute_result"
    }
   ],
   "source": [
    "np.mean(agent_lengths)"
   ]
  },
  {
   "cell_type": "code",
   "execution_count": 36,
   "id": "e6fee47e",
   "metadata": {},
   "outputs": [
    {
     "data": {
      "text/plain": [
       "22.21"
      ]
     },
     "execution_count": 36,
     "metadata": {},
     "output_type": "execute_result"
    }
   ],
   "source": [
    "np.mean(random_lengths)"
   ]
  },
  {
   "cell_type": "code",
   "execution_count": 37,
   "id": "44e95c21",
   "metadata": {},
   "outputs": [
    {
     "data": {
      "text/plain": [
       "<matplotlib.legend.Legend at 0x2cca9c3a0>"
      ]
     },
     "execution_count": 37,
     "metadata": {},
     "output_type": "execute_result"
    },
    {
     "data": {
      "image/png": "[encoded data removed]",
      "text/plain": [
       "<Figure size 960x720 with 1 Axes>"
      ]
     },
     "metadata": {},
     "output_type": "display_data"
    }
   ],
   "source": [
    "plt.plot(np.arange(100), rolling_average(agent_lengths, 10), label='Agent')\n",
    "plt.plot(np.arange(100), rolling_average(random_lengths, 10 ), label='Random')\n",
    "plt.legend()"
   ]
  },
  {
   "cell_type": "code",
   "execution_count": 43,
   "id": "fdb8369a",
   "metadata": {},
   "outputs": [
    {
     "data": {
      "image/png": "[encoded data removed]",
      "text/plain": [
       "<Figure size 960x720 with 1 Axes>"
      ]
     },
     "metadata": {},
     "output_type": "display_data"
    }
   ],
   "source": [
    "env = gym.make('CartPole-v1', render_mode='rgb_array')\n",
    "agent.state = env.reset()[0]\n",
    "\n",
    "for i in range(50):\n",
    "    plt.imshow(env.render())\n",
    "    display.display(plt.gcf())    \n",
    "    display.clear_output(wait=True)\n",
    "    # env.step(env.action_space.sample()) # take a random action\n",
    "    env.step(agent.find_action(agent.state))\n",
    "    agent.state = np.array(env.state)\n",
    "    \n",
    "env.close()"
   ]
  },
  {
   "cell_type": "code",
   "execution_count": null,
   "id": "44589930",
   "metadata": {},
   "outputs": [],
   "source": []
  }
 ],
 "metadata": {
  "kernelspec": {
   "display_name": "Python 3 (ipykernel)",
   "language": "python",
   "name": "python3"
  },
  "language_info": {
   "codemirror_mode": {
    "name": "ipython",
    "version": 3
   },
   "file_extension": ".py",
   "mimetype": "text/x-python",
   "name": "python",
   "nbconvert_exporter": "python",
   "pygments_lexer": "ipython3",
   "version": "3.10.12"
  }
 },
 "nbformat": 4,
 "nbformat_minor": 5
}
