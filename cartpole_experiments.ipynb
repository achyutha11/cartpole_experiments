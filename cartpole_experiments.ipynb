{
 "cells": [
  {
   "cell_type": "markdown",
   "id": "0e8a2290",
   "metadata": {},
   "source": [
    "# CartPole Experiment"
   ]
  },
  {
   "cell_type": "code",
   "execution_count": 1,
   "id": "2cf4f915",
   "metadata": {},
   "outputs": [],
   "source": [
    "%matplotlib inline\n",
    "from matplotlib import pyplot as plt\n",
    "from tensorflow.keras.layers import Dense\n",
    "from tensorflow.keras.optimizers import Adam\n",
    "from tensorflow.keras.models import Sequential\n",
    "import tensorflow as tf\n",
    "from tqdm import tqdm\n",
    "import pandas as pd\n",
    "import numpy as np\n",
    "import gymnasium as gym\n",
    "from IPython import display\n",
    "plt.rcParams['figure.dpi'] = 150"
   ]
  },
  {
   "cell_type": "code",
   "execution_count": 2,
   "id": "98ecc916",
   "metadata": {},
   "outputs": [],
   "source": [
    "# What do I want to do here?\n",
    "\n",
    "# Cartpole is an environment provided by OpenAI gym.\n",
    "# This is one of the basic RL envs - has been described as the \"Hello World\" of RL \n",
    "# The state is defined by the observation - this has cart position, cart velocity, pole angle, and pole\n",
    "# angular velocity in that order (numbers output from env.reset())\n",
    "# env.step(action = 0 or 1) gives us observation, reward, done, info, in that order\n",
    "# reward = +1 for every additional step, including termination step\n",
    "# More info can be found here: https://www.gymlibrary.dev/environments/classic_control/cart_pole/\n",
    "\n",
    "# I want use a DQN algorithm to train an agent to complete this environment successfully\n",
    "# I plan on experimenting with different:\n",
    "# a) neural net architectures\n",
    "# b) learning rates \n",
    "# c) explore / exploit values"
   ]
  },
  {
   "cell_type": "code",
   "execution_count": 3,
   "id": "82846799",
   "metadata": {},
   "outputs": [],
   "source": [
    "class DQNAgent():\n",
    "    \"\"\"\n",
    "    RL agent that utilizes a DQN algorithm to solve the Cartpole environment.\n",
    "    \"\"\"\n",
    "    \n",
    "    def __init__(self, gamma=0.95, epsilon=0.9, epsilon_decay=0.99, epsilon_min=0.05, tau=0.99):\n",
    "        \"\"\"\n",
    "        Initialize agent.\n",
    "        \n",
    "        Arguments:\n",
    "            gamma (float): Future reward discounting factor\n",
    "            epsilon (float): Starting value representing percentage of the time that the agent chooses a random action. E.g 0.75 = 75%\n",
    "            epsilon_decay (float): Epsilon is multiplied by this factor after each training step.\n",
    "            epsilon_min (float): Minimum value for epsilon.\n",
    "            tau (float): Rate at which the target-q network is updated.\n",
    "            \n",
    "        Returns:\n",
    "            None\n",
    "        \"\"\"\n",
    "        self.gamma = gamma\n",
    "        self.epsilon = epsilon\n",
    "        self.epsilon_decay = epsilon_decay\n",
    "        self.epsilon_min = epsilon_min\n",
    "        self.tau = tau\n",
    "        self.q_function = self.make_q_function()\n",
    "        self.q_function.compile(loss='mse', optimizer=tf.keras.optimizers.legacy.Adam(learning_rate=5e-4)) #USED TO BE 2.5e-4\n",
    "        self.target_q = self.make_q_function()\n",
    "        self.target_q.compile(loss='mse', optimizer='adam')\n",
    "        self.target_q.set_weights(self.q_function.weights)\n",
    "        self.max_memory = 10000\n",
    "    \n",
    "    \n",
    "    def find_action(self, state):\n",
    "        \"\"\"\n",
    "        Taking an action according to current policy of the agent. \n",
    "        \n",
    "        Arguments:\n",
    "            state (ndarray): cart position, cart velocity, pole angle, and pole angular velocity\n",
    "        \n",
    "        Returns:\n",
    "            action (int): 0 or 1, corresponding to whether to push the cart left or right.\n",
    "        \"\"\"\n",
    "        \n",
    "        # If random float is less than epsilon, we choose the action randomly\n",
    "        if np.random.random() < self.epsilon:\n",
    "            action = np.random.randint(0, 2)\n",
    "            \n",
    "        # Otherwise, choose the action that is the agent's current best guess for max future reward\n",
    "        else:\n",
    "            # Find action with best q-value\n",
    "            # Find q-value estimates for each action using q-function\n",
    "            q_vals = self.q_function.predict(state[np.newaxis, :], verbose=False)\n",
    "            # Find best value by taking index of the largest argument\n",
    "            action = np.argmax(q_vals)\n",
    "    \n",
    "        return action\n",
    "    \n",
    "    \n",
    "    def take_step(self, env):\n",
    "        \"\"\"\n",
    "        Take a step in the Cartpole environment with the agent.\n",
    "        \n",
    "        Arguments:\n",
    "            env: Cartpole environment object\n",
    "        \n",
    "        Returns:\n",
    "            state (ndarray): cart position, cart velocity, pole angle, and pole angular velocity\n",
    "            reward (int): +1 if the episode has not yet terminated, 0 otherwise\n",
    "            done (bool): Whether or not episode has terminated\n",
    "            action (int): 1 or 0, corresponding to whether the cart was pushed left or right\n",
    "            info (dict): Empty dictionary\n",
    "        \"\"\"\n",
    "        \n",
    "        action = self.find_action(self.state)\n",
    "        new_state, reward, done, info = env.step(action)[:4]\n",
    "        old_state = self.state\n",
    "        self.state = new_state\n",
    "        return old_state, action, reward, new_state, done\n",
    "    \n",
    "    \n",
    "    def make_q_function(self):\n",
    "        \"\"\"\n",
    "        Create a q-function to estimate future reward values for a given state-action pair.\n",
    "        \n",
    "        Arguments:\n",
    "            None\n",
    "        \n",
    "        Returns:\n",
    "            model: Untrained Keras sequential model. \n",
    "        \"\"\"\n",
    "        \n",
    "        model = Sequential(\n",
    "            [\n",
    "                Dense(512, activation='relu', input_shape=(4,)),\n",
    "                Dense(256, activation='relu'),\n",
    "                Dense(128, activation='relu'),\n",
    "                Dense(64, activation='relu'),\n",
    "                Dense(2, activation='linear')\n",
    "            ]\n",
    "        )\n",
    "        \n",
    "        return model\n",
    "        \n",
    "    \n",
    "    def train(self):\n",
    "        \"\"\"\n",
    "        Use memory of experience to train agent using gradient descent.\n",
    "        \n",
    "        Arguments:\n",
    "            None\n",
    "            \n",
    "        Returns:\n",
    "            None\n",
    "        \"\"\"\n",
    "            \n",
    "        # Define target q = reward + gamma * target q of next state\n",
    "        future_reward = np.max(self.target_q.predict(self.memory[:, -4:], verbose=False), axis=1)\n",
    "        future_reward = np.where(self.memory[:, 6], 0, future_reward)\n",
    "        \n",
    "        target_vals = self.memory[:, 5] + self.gamma * future_reward\n",
    "        \n",
    "        q_vals = self.q_function.predict(self.memory[:, :4], verbose=False)\n",
    "        \n",
    "        current_actions = self.memory[:, 4]\n",
    "        col1 = ((q_vals[:, 0] * current_actions) + ((1 - current_actions) * target_vals)).reshape(q_vals.shape[0], 1)\n",
    "        col2 = ((q_vals[:, 1] * (1 - current_actions)) + (current_actions * target_vals)).reshape(q_vals.shape[0], 1)\n",
    "        final_target = np.concatenate((col1, col2), axis=1)\n",
    "        \n",
    "        # Train q-function with mse against target-q\n",
    "        self.q_function.fit(self.memory[:, :4], final_target, shuffle=True, batch_size=64, verbose=False)\n",
    "        \n",
    "        # Update target-q to be tau * target q weights + (1 - tau) * q weights\n",
    "        new_weights = [self.tau * i + (1 - self.tau) * j for i, j in zip(self.target_q.weights, self.q_function.weights)]\n",
    "        self.target_q.set_weights(new_weights) \n",
    "        \n",
    "        # Update epsilon\n",
    "#         self.epsilon *= self.epsilon_decay\n",
    "#         self.epsilon = max(self.epsilon, self.epsilon_min)\n",
    "        \n",
    "        \n",
    "    def go(self, env, num_rounds=100, train_freq=5):\n",
    "        \"\"\"\n",
    "        Run the agent till termination num_rounds times.\n",
    "        \n",
    "        Arguments:\n",
    "            env: Cartpole environment object\n",
    "            num_rounds (int): Number of times we want the agent to run until termination.\n",
    "            train_freq (int): Train the agent after every train_freq rounds.\n",
    "            \n",
    "        Returns:\n",
    "            None\n",
    "        \"\"\"\n",
    "        \n",
    "        self.memory = np.zeros((1, 11))\n",
    "        length_lst = []\n",
    "        \n",
    "        # Each round is a complete runthrough of the environment until termination\n",
    "        for i in tqdm(range(num_rounds)):\n",
    "            \n",
    "            # Tracking whether or not current iteration has terminated\n",
    "            complete = False\n",
    "            \n",
    "            # Resetting to initial state\n",
    "            self.state = env.reset()[0]\n",
    "            \n",
    "            # Variable to keep track of number of steps taken in each round\n",
    "            length = 0\n",
    "            \n",
    "            while not complete:\n",
    "                \n",
    "                old_state, action, reward, new_state, done = self.take_step(env)\n",
    "                \n",
    "                # Add data to current iteration memory\n",
    "                if self.memory.any():\n",
    "                    curr_data = np.append(np.append(old_state, (action, reward, done)), new_state).reshape(1, 11)\n",
    "                    self.memory = np.concatenate((self.memory, curr_data), axis=0)\n",
    "                else: \n",
    "                    self.memory = (np.append(np.append(old_state, (action, reward, done)), new_state)).reshape(1, 11)\n",
    "                \n",
    "                if len(self.memory) > self.max_memory:\n",
    "                    idx = np.random.randint(0, self.max_memory, size=self.max_memory) \n",
    "                    self.memory = self.memory[idx, :]\n",
    "                    \n",
    "                if len(self.memory) > 64:\n",
    "                    self.train()\n",
    "                \n",
    "                if done:\n",
    "                    complete = True\n",
    "                    \n",
    "                length += 1\n",
    "\n",
    "                \n",
    "             # Update epsilon\n",
    "            self.epsilon *= self.epsilon_decay\n",
    "            self.epsilon = max(self.epsilon, self.epsilon_min)\n",
    "            \n",
    "            length_lst.append(length)\n",
    "            \n",
    "            if i % 10 == 0:\n",
    "                print(\"Episode {} last 10 reward avg: {}, epsilon: {}\".format(i, np.mean(length_lst[-10:]), self.epsilon))\n",
    "                               \n",
    "        return length_lst\n"
   ]
  },
  {
   "cell_type": "code",
   "execution_count": 4,
   "id": "2c24e108",
   "metadata": {},
   "outputs": [],
   "source": [
    "def rolling_average(lengths, window):\n",
    "    avgs = []\n",
    "    for i in range(len(lengths)):\n",
    "        if i < window:\n",
    "            avgs.append(0)\n",
    "        else:\n",
    "            avgs.append(np.mean(lengths[i - window: i]))\n",
    "    return avgs"
   ]
  },
  {
   "cell_type": "code",
   "execution_count": 5,
   "id": "fb100541",
   "metadata": {},
   "outputs": [],
   "source": [
    "agent = DQNAgent()"
   ]
  },
  {
   "cell_type": "code",
   "execution_count": 6,
   "id": "d41628ee",
   "metadata": {},
   "outputs": [],
   "source": [
    "env = gym.make('CartPole-v1', render_mode='rgb_array')"
   ]
  },
  {
   "cell_type": "code",
   "execution_count": 7,
   "id": "dfdbcef8",
   "metadata": {
    "scrolled": true
   },
   "outputs": [
    {
     "name": "stderr",
     "output_type": "stream",
     "text": [
      "  1%|▋                                                                                            | 2/250 [00:00<00:13, 18.96it/s]"
     ]
    },
    {
     "name": "stdout",
     "output_type": "stream",
     "text": [
      "Episode 0 last 10 reward avg: 19.0, epsilon: 0.891\n"
     ]
    },
    {
     "name": "stderr",
     "output_type": "stream",
     "text": [
      "  4%|████                                                                                        | 11/250 [00:06<03:29,  1.14it/s]"
     ]
    },
    {
     "name": "stdout",
     "output_type": "stream",
     "text": [
      "Episode 10 last 10 reward avg: 14.6, epsilon: 0.8058044288328449\n"
     ]
    },
    {
     "name": "stderr",
     "output_type": "stream",
     "text": [
      "  8%|███████▋                                                                                    | 21/250 [00:19<05:11,  1.36s/it]"
     ]
    },
    {
     "name": "stdout",
     "output_type": "stream",
     "text": [
      "Episode 20 last 10 reward avg: 15.9, epsilon: 0.7287550813991327\n"
     ]
    },
    {
     "name": "stderr",
     "output_type": "stream",
     "text": [
      " 12%|███████████▍                                                                                | 31/250 [00:33<06:21,  1.74s/it]"
     ]
    },
    {
     "name": "stdout",
     "output_type": "stream",
     "text": [
      "Episode 30 last 10 reward avg: 17.3, epsilon: 0.6590730326889578\n"
     ]
    },
    {
     "name": "stderr",
     "output_type": "stream",
     "text": [
      " 16%|███████████████                                                                             | 41/250 [01:07<18:14,  5.24s/it]"
     ]
    },
    {
     "name": "stdout",
     "output_type": "stream",
     "text": [
      "Episode 40 last 10 reward avg: 33.4, epsilon: 0.5960538368855853\n"
     ]
    },
    {
     "name": "stderr",
     "output_type": "stream",
     "text": [
      " 20%|██████████████████▊                                                                         | 51/250 [02:28<35:06, 10.58s/it]"
     ]
    },
    {
     "name": "stdout",
     "output_type": "stream",
     "text": [
      "Episode 50 last 10 reward avg: 62.8, epsilon: 0.5390604058195451\n"
     ]
    },
    {
     "name": "stderr",
     "output_type": "stream",
     "text": [
      " 24%|██████████████████████▍                                                                     | 61/250 [03:34<20:47,  6.60s/it]"
     ]
    },
    {
     "name": "stdout",
     "output_type": "stream",
     "text": [
      "Episode 60 last 10 reward avg: 42.5, epsilon: 0.48751656837016827\n"
     ]
    },
    {
     "name": "stderr",
     "output_type": "stream",
     "text": [
      " 28%|██████████████████████████▏                                                                 | 71/250 [04:26<12:04,  4.05s/it]"
     ]
    },
    {
     "name": "stdout",
     "output_type": "stream",
     "text": [
      "Episode 70 last 10 reward avg: 29.6, epsilon: 0.4409012457037845\n"
     ]
    },
    {
     "name": "stderr",
     "output_type": "stream",
     "text": [
      " 32%|█████████████████████████████▊                                                              | 81/250 [06:50<40:03, 14.22s/it]"
     ]
    },
    {
     "name": "stdout",
     "output_type": "stream",
     "text": [
      "Episode 80 last 10 reward avg: 69.4, epsilon: 0.39874318346355536\n"
     ]
    },
    {
     "name": "stderr",
     "output_type": "stream",
     "text": [
      " 36%|█████████████████████████████████▍                                                          | 91/250 [08:22<16:35,  6.26s/it]"
     ]
    },
    {
     "name": "stdout",
     "output_type": "stream",
     "text": [
      "Episode 90 last 10 reward avg: 38.9, epsilon: 0.3606161876563865\n"
     ]
    },
    {
     "name": "stderr",
     "output_type": "stream",
     "text": [
      " 40%|████████████████████████████████████▊                                                      | 101/250 [09:14<10:02,  4.05s/it]"
     ]
    },
    {
     "name": "stdout",
     "output_type": "stream",
     "text": [
      "Episode 100 last 10 reward avg: 20.8, epsilon: 0.3261348160744472\n"
     ]
    },
    {
     "name": "stderr",
     "output_type": "stream",
     "text": [
      " 44%|████████████████████████████████████████▍                                                  | 111/250 [11:21<35:24, 15.28s/it]"
     ]
    },
    {
     "name": "stdout",
     "output_type": "stream",
     "text": [
      "Episode 110 last 10 reward avg: 47.3, epsilon: 0.2949504816940234\n"
     ]
    },
    {
     "name": "stderr",
     "output_type": "stream",
     "text": [
      " 48%|████████████████████████████████████████████                                               | 121/250 [12:34<12:25,  5.78s/it]"
     ]
    },
    {
     "name": "stdout",
     "output_type": "stream",
     "text": [
      "Episode 120 last 10 reward avg: 25.2, epsilon: 0.26674792865928726\n"
     ]
    },
    {
     "name": "stderr",
     "output_type": "stream",
     "text": [
      " 52%|███████████████████████████████████████████████▋                                           | 131/250 [13:56<15:14,  7.68s/it]"
     ]
    },
    {
     "name": "stdout",
     "output_type": "stream",
     "text": [
      "Episode 130 last 10 reward avg: 26.9, epsilon: 0.24124204522518672\n"
     ]
    },
    {
     "name": "stderr",
     "output_type": "stream",
     "text": [
      " 56%|██████████████████████████████████████████████████▏                                      | 141/250 [17:35<1:02:28, 34.39s/it]"
     ]
    },
    {
     "name": "stdout",
     "output_type": "stream",
     "text": [
      "Episode 140 last 10 reward avg: 67.1, epsilon: 0.2181749814401222\n"
     ]
    },
    {
     "name": "stderr",
     "output_type": "stream",
     "text": [
      " 60%|██████████████████████████████████████████████████████▉                                    | 151/250 [21:24<34:31, 20.92s/it]"
     ]
    },
    {
     "name": "stdout",
     "output_type": "stream",
     "text": [
      "Episode 150 last 10 reward avg: 62.9, epsilon: 0.1973135424298251\n"
     ]
    },
    {
     "name": "stderr",
     "output_type": "stream",
     "text": [
      " 64%|██████████████████████████████████████████████████████████▌                                | 161/250 [27:00<38:21, 25.85s/it]"
     ]
    },
    {
     "name": "stdout",
     "output_type": "stream",
     "text": [
      "Episode 160 last 10 reward avg: 82.8, epsilon: 0.178446830930023\n"
     ]
    },
    {
     "name": "stderr",
     "output_type": "stream",
     "text": [
      " 68%|██████████████████████████████████████████████████████████████▏                            | 171/250 [32:22<35:06, 26.67s/it]"
     ]
    },
    {
     "name": "stdout",
     "output_type": "stream",
     "text": [
      "Episode 170 last 10 reward avg: 72.5, epsilon: 0.1613841152352395\n"
     ]
    },
    {
     "name": "stderr",
     "output_type": "stream",
     "text": [
      " 72%|█████████████████████████████████████████████████████████████████▉                         | 181/250 [37:43<36:15, 31.53s/it]"
     ]
    },
    {
     "name": "stdout",
     "output_type": "stream",
     "text": [
      "Episode 180 last 10 reward avg: 66.6, epsilon: 0.14595290100990588\n"
     ]
    },
    {
     "name": "stderr",
     "output_type": "stream",
     "text": [
      " 76%|█████████████████████████████████████████████████████████████████████▌                     | 191/250 [44:28<39:52, 40.56s/it]"
     ]
    },
    {
     "name": "stdout",
     "output_type": "stream",
     "text": [
      "Episode 190 last 10 reward avg: 77.8, epsilon: 0.13199718746889333\n"
     ]
    },
    {
     "name": "stderr",
     "output_type": "stream",
     "text": [
      " 80%|█████████████████████████████████████████████████████████████████████████▏                 | 201/250 [52:07<31:29, 38.57s/it]"
     ]
    },
    {
     "name": "stdout",
     "output_type": "stream",
     "text": [
      "Episode 200 last 10 reward avg: 80.9, epsilon: 0.1193758902984439\n"
     ]
    },
    {
     "name": "stderr",
     "output_type": "stream",
     "text": [
      " 84%|████████████████████████████████████████████████████████████████████████████▊              | 211/250 [57:49<21:49, 33.58s/it]"
     ]
    },
    {
     "name": "stdout",
     "output_type": "stream",
     "text": [
      "Episode 210 last 10 reward avg: 54.4, epsilon: 0.1079614153741301\n"
     ]
    },
    {
     "name": "stderr",
     "output_type": "stream",
     "text": [
      " 88%|██████████████████████████████████████████████████████████████████████████████▋          | 221/250 [1:05:28<20:10, 41.72s/it]"
     ]
    },
    {
     "name": "stdout",
     "output_type": "stream",
     "text": [
      "Episode 220 last 10 reward avg: 75.3, epsilon: 0.09763836885694321\n"
     ]
    },
    {
     "name": "stderr",
     "output_type": "stream",
     "text": [
      " 92%|██████████████████████████████████████████████████████████████████████████████████▏      | 231/250 [1:15:14<23:13, 73.33s/it]"
     ]
    },
    {
     "name": "stdout",
     "output_type": "stream",
     "text": [
      "Episode 230 last 10 reward avg: 96.3, epsilon: 0.08830239062731732\n"
     ]
    },
    {
     "name": "stderr",
     "output_type": "stream",
     "text": [
      " 96%|█████████████████████████████████████████████████████████████████████████████████████▊   | 241/250 [1:22:11<07:16, 48.54s/it]"
     ]
    },
    {
     "name": "stdout",
     "output_type": "stream",
     "text": [
      "Episode 240 last 10 reward avg: 68.6, epsilon: 0.07985909926377122\n"
     ]
    },
    {
     "name": "stderr",
     "output_type": "stream",
     "text": [
      "100%|█████████████████████████████████████████████████████████████████████████████████████████| 250/250 [1:35:00<00:00, 22.80s/it]\n"
     ]
    }
   ],
   "source": [
    "lengths = agent.go(env, num_rounds=250)"
   ]
  },
  {
   "cell_type": "code",
   "execution_count": 8,
   "id": "9b7e7bc8",
   "metadata": {},
   "outputs": [
    {
     "data": {
      "text/plain": [
       "Text(0, 0.5, 'Episode length')"
      ]
     },
     "execution_count": 8,
     "metadata": {},
     "output_type": "execute_result"
    },
    {
     "data": {
      "image/png": "[encoded data removed]",
      "text/plain": [
       "<Figure size 960x720 with 1 Axes>"
      ]
     },
     "metadata": {},
     "output_type": "display_data"
    }
   ],
   "source": [
    "iters = np.arange(250)\n",
    "plt.plot(iters, rolling_average(lengths, 10))\n",
    "plt.xlabel(\"Iteration number\")\n",
    "plt.ylabel(\"Episode length\")"
   ]
  },
  {
   "cell_type": "code",
   "execution_count": null,
   "id": "33dd2baf",
   "metadata": {},
   "outputs": [
    {
     "name": "stderr",
     "output_type": "stream",
     "text": [
      " 51%|██████████████████████████████████████████████▍                                            | 255/500 [09:45<10:32,  2.58s/it]"
     ]
    }
   ],
   "source": [
    "done = False\n",
    "\n",
    "env = gym.make('CartPole-v1', render_mode='rgb_array')\n",
    "agent.state = env.reset()[0]\n",
    "agent_lengths = []\n",
    "\n",
    "for i in tqdm(range(500)):\n",
    "    \n",
    "    env.reset()\n",
    "    \n",
    "    ep_length = 0\n",
    "    \n",
    "    done = False\n",
    "    \n",
    "    while not done:\n",
    "        _, _, _, _, done = agent.take_step(env)\n",
    "        ep_length += 1\n",
    "    \n",
    "    agent_lengths.append(ep_length)"
   ]
  },
  {
   "cell_type": "code",
   "execution_count": null,
   "id": "ad89f2ba",
   "metadata": {},
   "outputs": [],
   "source": [
    "done = False\n",
    "\n",
    "env = gym.make('CartPole-v1', render_mode='rgb_array')\n",
    "random_lengths = []\n",
    "\n",
    "for i in tqdm(range(500)):\n",
    "    \n",
    "    env.reset()\n",
    "    \n",
    "    done = False\n",
    "    \n",
    "    ep_length = 0\n",
    "    \n",
    "    while not done:\n",
    "        action = np.random.randint(0, 2)\n",
    "        _, _, done, _, _ = env.step(action)\n",
    "        ep_length += 1\n",
    "    \n",
    "    random_lengths.append(ep_length)"
   ]
  },
  {
   "cell_type": "code",
   "execution_count": null,
   "id": "4126ad09",
   "metadata": {},
   "outputs": [],
   "source": [
    "np.mean(agent_lengths)"
   ]
  },
  {
   "cell_type": "code",
   "execution_count": null,
   "id": "de9e1be5",
   "metadata": {},
   "outputs": [],
   "source": [
    "np.mean(random_lengths)"
   ]
  },
  {
   "cell_type": "code",
   "execution_count": null,
   "id": "501c6618",
   "metadata": {},
   "outputs": [],
   "source": [
    "plt.plot(np.arange(500), rolling_average(agent_lengths, 10), label='Agent')\n",
    "plt.plot(np.arange(500), rolling_average(random_lengths, 10 ), label='Random')\n",
    "plt.legend()"
   ]
  },
  {
   "cell_type": "code",
   "execution_count": 14,
   "id": "fdb8369a",
   "metadata": {},
   "outputs": [
    {
     "data": {
      "image/png": "[encoded data removed]",
      "text/plain": [
       "<Figure size 960x720 with 1 Axes>"
      ]
     },
     "metadata": {},
     "output_type": "display_data"
    }
   ],
   "source": [
    "env = gym.make('CartPole-v1', render_mode='rgb_array')\n",
    "agent.state = env.reset()[0]\n",
    "\n",
    "for i in range(50):\n",
    "    plt.imshow(env.render())\n",
    "    display.display(plt.gcf())    \n",
    "    display.clear_output(wait=True)\n",
    "#     env.step(env.action_space.sample()) # take a random action\n",
    "    env.step(agent.find_action(agent.state))\n",
    "    agent.state = np.array(env.state)\n",
    "    \n",
    "env.close()"
   ]
  },
  {
   "cell_type": "code",
   "execution_count": null,
   "id": "5706c9e3",
   "metadata": {},
   "outputs": [],
   "source": []
  }
 ],
 "metadata": {
  "kernelspec": {
   "display_name": "Python 3 (ipykernel)",
   "language": "python",
   "name": "python3"
  },
  "language_info": {
   "codemirror_mode": {
    "name": "ipython",
    "version": 3
   },
   "file_extension": ".py",
   "mimetype": "text/x-python",
   "name": "python",
   "nbconvert_exporter": "python",
   "pygments_lexer": "ipython3",
   "version": "3.10.12"
  }
 },
 "nbformat": 4,
 "nbformat_minor": 5
}
